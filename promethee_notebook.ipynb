{
 "cells": [
  {
   "cell_type": "code",
   "execution_count": 1,
   "metadata": {},
   "outputs": [],
   "source": [
    "import pandas as pd"
   ]
  },
  {
   "cell_type": "code",
   "execution_count": 2,
   "metadata": {},
   "outputs": [],
   "source": [
    "alternatives = pd.read_csv(\"./data/milosz_alternatives1.csv\")\n",
    "criteria = pd.read_csv(\"./data/milosz_criteria1.csv\")"
   ]
  },
  {
   "cell_type": "code",
   "execution_count": 3,
   "metadata": {},
   "outputs": [
    {
     "data": {
      "text/html": [
       "<div>\n",
       "<style scoped>\n",
       "    .dataframe tbody tr th:only-of-type {\n",
       "        vertical-align: middle;\n",
       "    }\n",
       "\n",
       "    .dataframe tbody tr th {\n",
       "        vertical-align: top;\n",
       "    }\n",
       "\n",
       "    .dataframe thead th {\n",
       "        text-align: right;\n",
       "    }\n",
       "</style>\n",
       "<table border=\"1\" class=\"dataframe\">\n",
       "  <thead>\n",
       "    <tr style=\"text-align: right;\">\n",
       "      <th></th>\n",
       "      <th>country</th>\n",
       "      <th>power</th>\n",
       "      <th>safety</th>\n",
       "      <th>construction_cost</th>\n",
       "    </tr>\n",
       "  </thead>\n",
       "  <tbody>\n",
       "    <tr>\n",
       "      <th>0</th>\n",
       "      <td>ITA</td>\n",
       "      <td>98</td>\n",
       "      <td>8</td>\n",
       "      <td>400</td>\n",
       "    </tr>\n",
       "    <tr>\n",
       "      <th>1</th>\n",
       "      <td>BEL</td>\n",
       "      <td>58</td>\n",
       "      <td>0</td>\n",
       "      <td>800</td>\n",
       "    </tr>\n",
       "    <tr>\n",
       "      <th>2</th>\n",
       "      <td>GER</td>\n",
       "      <td>66</td>\n",
       "      <td>5</td>\n",
       "      <td>1000</td>\n",
       "    </tr>\n",
       "    <tr>\n",
       "      <th>3</th>\n",
       "      <td>SWE</td>\n",
       "      <td>74</td>\n",
       "      <td>3</td>\n",
       "      <td>600</td>\n",
       "    </tr>\n",
       "    <tr>\n",
       "      <th>4</th>\n",
       "      <td>AUT</td>\n",
       "      <td>80</td>\n",
       "      <td>7</td>\n",
       "      <td>200</td>\n",
       "    </tr>\n",
       "    <tr>\n",
       "      <th>5</th>\n",
       "      <td>FRA</td>\n",
       "      <td>82</td>\n",
       "      <td>10</td>\n",
       "      <td>600</td>\n",
       "    </tr>\n",
       "  </tbody>\n",
       "</table>\n",
       "</div>"
      ],
      "text/plain": [
       "  country  power  safety  construction_cost\n",
       "0     ITA     98       8                400\n",
       "1     BEL     58       0                800\n",
       "2     GER     66       5               1000\n",
       "3     SWE     74       3                600\n",
       "4     AUT     80       7                200\n",
       "5     FRA     82      10                600"
      ]
     },
     "execution_count": 3,
     "metadata": {},
     "output_type": "execute_result"
    }
   ],
   "source": [
    "alternatives"
   ]
  },
  {
   "cell_type": "code",
   "execution_count": 4,
   "metadata": {},
   "outputs": [
    {
     "data": {
      "text/html": [
       "<div>\n",
       "<style scoped>\n",
       "    .dataframe tbody tr th:only-of-type {\n",
       "        vertical-align: middle;\n",
       "    }\n",
       "\n",
       "    .dataframe tbody tr th {\n",
       "        vertical-align: top;\n",
       "    }\n",
       "\n",
       "    .dataframe thead th {\n",
       "        text-align: right;\n",
       "    }\n",
       "</style>\n",
       "<table border=\"1\" class=\"dataframe\">\n",
       "  <thead>\n",
       "    <tr style=\"text-align: right;\">\n",
       "      <th></th>\n",
       "      <th>criterion_name</th>\n",
       "      <th>criterion_type</th>\n",
       "      <th>indifference</th>\n",
       "      <th>preference</th>\n",
       "      <th>veto</th>\n",
       "      <th>weight</th>\n",
       "    </tr>\n",
       "  </thead>\n",
       "  <tbody>\n",
       "    <tr>\n",
       "      <th>0</th>\n",
       "      <td>power</td>\n",
       "      <td>gain</td>\n",
       "      <td>0</td>\n",
       "      <td>0.000001</td>\n",
       "      <td>NaN</td>\n",
       "      <td>3</td>\n",
       "    </tr>\n",
       "    <tr>\n",
       "      <th>1</th>\n",
       "      <td>safety</td>\n",
       "      <td>gain</td>\n",
       "      <td>0</td>\n",
       "      <td>2.000000</td>\n",
       "      <td>NaN</td>\n",
       "      <td>2</td>\n",
       "    </tr>\n",
       "    <tr>\n",
       "      <th>2</th>\n",
       "      <td>construction_cost</td>\n",
       "      <td>cost</td>\n",
       "      <td>100</td>\n",
       "      <td>300.000000</td>\n",
       "      <td>NaN</td>\n",
       "      <td>5</td>\n",
       "    </tr>\n",
       "  </tbody>\n",
       "</table>\n",
       "</div>"
      ],
      "text/plain": [
       "      criterion_name criterion_type  indifference  preference  veto  weight\n",
       "0              power           gain             0    0.000001   NaN       3\n",
       "1             safety           gain             0    2.000000   NaN       2\n",
       "2  construction_cost           cost           100  300.000000   NaN       5"
      ]
     },
     "execution_count": 4,
     "metadata": {},
     "output_type": "execute_result"
    }
   ],
   "source": [
    "criteria"
   ]
  },
  {
   "cell_type": "code",
   "execution_count": 5,
   "metadata": {},
   "outputs": [
    {
     "data": {
      "text/plain": [
       "True"
      ]
     },
     "execution_count": 5,
     "metadata": {},
     "output_type": "execute_result"
    }
   ],
   "source": [
    "from validate_input import validate_input\n",
    "validate_input(alternatives, criteria)"
   ]
  },
  {
   "cell_type": "code",
   "execution_count": 6,
   "metadata": {},
   "outputs": [
    {
     "name": "stdout",
     "output_type": "stream",
     "text": [
      "criterion_name       power\n",
      "criterion_type        gain\n",
      "indifference             0\n",
      "preference        0.000001\n",
      "veto                   NaN\n",
      "weight                   3\n",
      "Name: 0, dtype: object\n"
     ]
    }
   ],
   "source": [
    "print(criteria.iloc[0])"
   ]
  },
  {
   "cell_type": "code",
   "execution_count": 7,
   "metadata": {},
   "outputs": [],
   "source": [
    "# compute preference between alternatives a and b\n",
    "def marginal_preference_index(a: pd.Series, b: pd.Series, criterion: pd.Series) -> float:\n",
    "    p = criterion[\"preference\"]\n",
    "    q = criterion[\"indifference\"]\n",
    "    criterion_type = criterion[\"criterion_type\"]\n",
    "    criterion_name = criterion[\"criterion_name\"]\n",
    "    a_val = a[criterion_name]\n",
    "    b_val = b[criterion_name]\n",
    "    difference = a_val - b_val\n",
    "    if criterion_type == \"cost\":\n",
    "        difference *= -1\n",
    "\n",
    "    if difference > p:\n",
    "        return 1\n",
    "    if difference <= q:\n",
    "        return 0\n",
    "    return (difference - q) / (p-q)"
   ]
  },
  {
   "cell_type": "code",
   "execution_count": 8,
   "metadata": {},
   "outputs": [],
   "source": [
    "def comprehensive_preference_index(a: pd.Series, b: pd.Series, criteria: pd.DataFrame) -> float:\n",
    "    numerator_sum = sum([marginal_preference_index(a, b, criterion[1])*criterion[1][\"weight\"] for criterion in criteria.iterrows()])\n",
    "    sum_of_weights = sum([criterion[1][\"weight\"] for criterion in criteria.iterrows()])\n",
    "    return numerator_sum/sum_of_weights"
   ]
  },
  {
   "cell_type": "code",
   "execution_count": 9,
   "metadata": {},
   "outputs": [
    {
     "name": "stdout",
     "output_type": "stream",
     "text": [
      "ITA BEL 1.0\n",
      "ITA GER 1.0\n",
      "ITA SWE 0.75\n",
      "ITA AUT 0.4\n",
      "ITA FRA 0.55\n",
      "BEL ITA 0.0\n",
      "BEL GER 0.25\n",
      "BEL SWE 0.0\n",
      "BEL AUT 0.0\n",
      "BEL FRA 0.0\n",
      "GER ITA 0.0\n",
      "GER BEL 0.5\n",
      "GER SWE 0.2\n",
      "GER AUT 0.0\n",
      "GER FRA 0.0\n",
      "SWE ITA 0.0\n",
      "SWE BEL 0.75\n",
      "SWE GER 0.8\n",
      "SWE AUT 0.0\n",
      "SWE FRA 0.0\n",
      "AUT ITA 0.25\n",
      "AUT BEL 1.0\n",
      "AUT GER 1.0\n",
      "AUT SWE 1.0\n",
      "AUT FRA 0.5\n",
      "FRA ITA 0.2\n",
      "FRA BEL 0.75\n",
      "FRA GER 1.0\n",
      "FRA SWE 0.5\n",
      "FRA AUT 0.5\n"
     ]
    }
   ],
   "source": [
    "# TODO delete this cell after its outputs are discussed by the developers\n",
    "# different results for FRA-AUT and AUT-FRA than in the presentation\n",
    "# manual verification suggests that Milosz made an oopsie\n",
    "for alternative in alternatives.iterrows():\n",
    "    for b_alternative in alternatives.iterrows():\n",
    "        if alternative[0] == b_alternative[0]:\n",
    "            continue\n",
    "\n",
    "        print(alternative[1][0], b_alternative[1][0], comprehensive_preference_index(alternative[1], b_alternative[1], criteria))"
   ]
  },
  {
   "cell_type": "code",
   "execution_count": 10,
   "metadata": {},
   "outputs": [],
   "source": [
    "def positive_flow(alternative: pd.Series, alternatives: pd.DataFrame, criteria: pd.DataFrame) -> float:\n",
    "    flow = 0\n",
    "    for b_alternative in alternatives.iterrows():\n",
    "        if alternative[0] == b_alternative[0]:\n",
    "            continue\n",
    "        flow += comprehensive_preference_index(alternative[1], b_alternative[1], criteria)\n",
    "    return flow\n",
    "\n",
    "def negative_flow(alternative, alternatives, criteria):\n",
    "    flow = 0\n",
    "    for b_alternative in alternatives.iterrows():\n",
    "        if alternative[0] == b_alternative[0]:\n",
    "            continue\n",
    "        flow += comprehensive_preference_index(b_alternative[1], alternative[1], criteria)\n",
    "    return flow"
   ]
  },
  {
   "cell_type": "code",
   "execution_count": 11,
   "metadata": {},
   "outputs": [
    {
     "name": "stdout",
     "output_type": "stream",
     "text": [
      "ITA 3.7 0.45\n",
      "BEL 0.25 4.0\n",
      "GER 0.7 4.05\n",
      "SWE 1.55 2.45\n",
      "AUT 3.75 0.9\n",
      "FRA 2.95 1.05\n"
     ]
    }
   ],
   "source": [
    "# again, the results for AUT and FRA are different than in the lecture\n",
    "# they are however consistent with the results obtained earlier on in the notebook\n",
    "for alternative in alternatives.iterrows():\n",
    "    print(alternative[1][0],\n",
    "          positive_flow(alternative, alternatives, criteria),\n",
    "          negative_flow(alternative, alternatives, criteria))"
   ]
  },
  {
   "cell_type": "code",
   "execution_count": 58,
   "metadata": {},
   "outputs": [],
   "source": [
    "# TODO: implement\n",
    "# still work in progress\n",
    "def PROMETHEE1_ranking(alternatives: pd.DataFrame, criteria: pd.DataFrame):\n",
    "    positive_flow_ranking = sorted([(a[1][0], positive_flow(a, alternatives, criteria)) \n",
    "                                     for a in alternatives.iterrows()],\n",
    "                                     key = lambda x: x[1], reverse=True)\n",
    "    negative_flow_ranking = sorted([(a[1][0], negative_flow(a, alternatives, criteria))\n",
    "                                     for a in alternatives.iterrows()],\n",
    "                                     key = lambda x: x[1])\n",
    "    print(positive_flow_ranking)\n",
    "    print(negative_flow_ranking)\n",
    "    positive_flow_dict = dict((a[1][0], positive_flow(a, alternatives, criteria))\n",
    "                               for a in alternatives.iterrows())\n",
    "    negative_flow_dict = dict((a[1][0], negative_flow(a, alternatives, criteria))\n",
    "                               for a in alternatives.iterrows())\n",
    "    alternative_names = alternatives.iloc[:, 0].tolist()\n",
    "    relations_dict = dict()\n",
    "    for name in alternative_names:\n",
    "        for different_name in alternative_names:\n",
    "            if name == different_name:\n",
    "                continue\n",
    "            if ((positive_flow_dict[name] >= positive_flow_dict[different_name] and\n",
    "                negative_flow_dict[name] < negative_flow_dict[different_name]) or\n",
    "               (positive_flow_dict[name] > positive_flow_dict[different_name] and\n",
    "                negative_flow_dict[name] <= negative_flow_dict[different_name])):\n",
    "                relations_dict[(name, different_name)] = 'P'\n",
    "            elif (positive_flow_dict[name] == positive_flow_dict[different_name] and\n",
    "                  negative_flow_dict[name] == negative_flow_dict[different_name]):\n",
    "                relations_dict[((name, different_name))] = 'I'\n",
    "            elif ((positive_flow_dict[name] > positive_flow_dict[different_name] and\n",
    "                negative_flow_dict[name] > negative_flow_dict[different_name]) or\n",
    "               (positive_flow_dict[name] < positive_flow_dict[different_name] and\n",
    "                negative_flow_dict[name] < negative_flow_dict[different_name])):\n",
    "                relations_dict[(name, different_name)] = '?'\n",
    "    # RELATIONS are key, no getting around that (ranking is not enough - indifference)\n",
    "    # a ROOT of the ranking could be useful - an imaginary alternative, better than all others\n",
    "    # (consider an example when the two rankings are just shifted)\n",
    "    # maybe just solve all pairs LONGEST paths, where paths are created in the direction of preference\n",
    "    \n",
    "    # for k, v in relations_dict.items():\n",
    "    #     print(k, v)\n",
    "\n",
    "    # \"FUN\" fact - dict.fromkeys(alternatvie_names, []) makes all keys \"point\" to the same list\n",
    "    preference_losers_dict = dict((alternative_name, []) for alternative_name in alternative_names)\n",
    "    unranked_alternatives = alternative_names\n",
    "    for pair, relation in relations_dict.items():\n",
    "        if relation != \"P\":\n",
    "            continue\n",
    "        preference_losers_dict[pair[1]].append(pair[0])\n",
    "    print(preference_losers_dict)\n",
    "    ranking = []\n",
    "    while unranked_alternatives:\n",
    "        alternatives_to_add_to_ranking = []\n",
    "        print(\"Unranked\", unranked_alternatives)\n",
    "        print(\"Dict:\", preference_losers_dict)\n",
    "        for alternative_name in unranked_alternatives:\n",
    "            print(alternative_name)\n",
    "            if preference_losers_dict[alternative_name]:\n",
    "                continue\n",
    "            alternatives_to_add_to_ranking.append(alternative_name)\n",
    "            unranked_alternatives.remove(alternative_name)\n",
    "            for unranked_alternative_name in unranked_alternatives:\n",
    "                if alternative_name in preference_losers_dict[unranked_alternative_name]:\n",
    "                    preference_losers_dict[unranked_alternative_name].remove(alternative_name)\n",
    "        print(f\"Appending: {alternatives_to_add_to_ranking}\")\n",
    "        ranking.append(alternatives_to_add_to_ranking)\n",
    "\n",
    "    return ranking"
   ]
  },
  {
   "cell_type": "code",
   "execution_count": 59,
   "metadata": {},
   "outputs": [
    {
     "name": "stdout",
     "output_type": "stream",
     "text": [
      "[('AUT', 3.75), ('ITA', 3.7), ('FRA', 2.95), ('SWE', 1.55), ('GER', 0.7), ('BEL', 0.25)]\n",
      "[('ITA', 0.45), ('AUT', 0.9), ('FRA', 1.05), ('SWE', 2.45), ('BEL', 4.0), ('GER', 4.05)]\n",
      "{'ITA': [], 'BEL': ['ITA', 'SWE', 'AUT', 'FRA'], 'GER': ['ITA', 'SWE', 'AUT', 'FRA'], 'SWE': ['ITA', 'AUT', 'FRA'], 'AUT': [], 'FRA': ['ITA', 'AUT']}\n",
      "Unranked ['ITA', 'BEL', 'GER', 'SWE', 'AUT', 'FRA']\n",
      "Dict: {'ITA': [], 'BEL': ['ITA', 'SWE', 'AUT', 'FRA'], 'GER': ['ITA', 'SWE', 'AUT', 'FRA'], 'SWE': ['ITA', 'AUT', 'FRA'], 'AUT': [], 'FRA': ['ITA', 'AUT']}\n",
      "ITA\n",
      "GER\n",
      "SWE\n",
      "AUT\n",
      "Appending: ['ITA', 'AUT']\n",
      "Unranked ['BEL', 'GER', 'SWE', 'FRA']\n",
      "Dict: {'ITA': [], 'BEL': ['SWE', 'FRA'], 'GER': ['SWE', 'FRA'], 'SWE': ['FRA'], 'AUT': [], 'FRA': []}\n",
      "BEL\n",
      "GER\n",
      "SWE\n",
      "FRA\n",
      "Appending: ['FRA']\n",
      "Unranked ['BEL', 'GER', 'SWE']\n",
      "Dict: {'ITA': [], 'BEL': ['SWE'], 'GER': ['SWE'], 'SWE': [], 'AUT': [], 'FRA': []}\n",
      "BEL\n",
      "GER\n",
      "SWE\n",
      "Appending: ['SWE']\n",
      "Unranked ['BEL', 'GER']\n",
      "Dict: {'ITA': [], 'BEL': [], 'GER': [], 'SWE': [], 'AUT': [], 'FRA': []}\n",
      "BEL\n",
      "Appending: ['BEL']\n",
      "Unranked ['GER']\n",
      "Dict: {'ITA': [], 'BEL': [], 'GER': [], 'SWE': [], 'AUT': [], 'FRA': []}\n",
      "GER\n",
      "Appending: ['GER']\n"
     ]
    },
    {
     "data": {
      "text/plain": [
       "[['ITA', 'AUT'], ['FRA'], ['SWE'], ['BEL'], ['GER']]"
      ]
     },
     "execution_count": 59,
     "metadata": {},
     "output_type": "execute_result"
    }
   ],
   "source": [
    "PROMETHEE1_ranking(alternatives, criteria)"
   ]
  },
  {
   "cell_type": "code",
   "execution_count": 14,
   "metadata": {},
   "outputs": [],
   "source": [
    "def PROMETHEE2_ranking(alternatives: pd.DataFrame, criteria: pd.DataFrame) -> list:\n",
    "    ranking = sorted([(a[1][0], \n",
    "                       positive_flow(a, alternatives, criteria)-negative_flow(a, alternatives, criteria))\n",
    "                       for a in alternatives.iterrows()], \n",
    "                       key = lambda x: x[1], reverse=True)\n",
    "    ranking = [(name, round(score, 2)) for (name, score) in ranking]\n",
    "    return ranking"
   ]
  },
  {
   "cell_type": "code",
   "execution_count": 15,
   "metadata": {},
   "outputs": [
    {
     "data": {
      "text/plain": [
       "[('ITA', 3.25),\n",
       " ('AUT', 2.85),\n",
       " ('FRA', 1.9),\n",
       " ('SWE', -0.9),\n",
       " ('GER', -3.35),\n",
       " ('BEL', -3.75)]"
      ]
     },
     "execution_count": 15,
     "metadata": {},
     "output_type": "execute_result"
    }
   ],
   "source": [
    "# lecture error propagates as expected\n",
    "PROMETHEE2_ranking(alternatives, criteria)"
   ]
  },
  {
   "cell_type": "code",
   "execution_count": null,
   "metadata": {},
   "outputs": [],
   "source": []
  }
 ],
 "metadata": {
  "kernelspec": {
   "display_name": "Python 3",
   "language": "python",
   "name": "python3"
  },
  "language_info": {
   "codemirror_mode": {
    "name": "ipython",
    "version": 3
   },
   "file_extension": ".py",
   "mimetype": "text/x-python",
   "name": "python",
   "nbconvert_exporter": "python",
   "pygments_lexer": "ipython3",
   "version": "3.11.0"
  },
  "orig_nbformat": 4
 },
 "nbformat": 4,
 "nbformat_minor": 2
}
