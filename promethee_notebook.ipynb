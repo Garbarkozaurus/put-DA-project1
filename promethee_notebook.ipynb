{
 "cells": [
  {
   "cell_type": "code",
   "execution_count": 1,
   "metadata": {},
   "outputs": [],
   "source": [
    "import pandas as pd\n",
    "import graphviz"
   ]
  },
  {
   "cell_type": "code",
   "execution_count": 2,
   "metadata": {},
   "outputs": [],
   "source": [
    "alternatives = pd.read_csv(\"./data/milosz_alternatives1.csv\")\n",
    "criteria = pd.read_csv(\"./data/milosz_criteria1.csv\")"
   ]
  },
  {
   "cell_type": "code",
   "execution_count": 3,
   "metadata": {},
   "outputs": [
    {
     "data": {
      "text/html": [
       "<div>\n",
       "<style scoped>\n",
       "    .dataframe tbody tr th:only-of-type {\n",
       "        vertical-align: middle;\n",
       "    }\n",
       "\n",
       "    .dataframe tbody tr th {\n",
       "        vertical-align: top;\n",
       "    }\n",
       "\n",
       "    .dataframe thead th {\n",
       "        text-align: right;\n",
       "    }\n",
       "</style>\n",
       "<table border=\"1\" class=\"dataframe\">\n",
       "  <thead>\n",
       "    <tr style=\"text-align: right;\">\n",
       "      <th></th>\n",
       "      <th>country</th>\n",
       "      <th>power</th>\n",
       "      <th>safety</th>\n",
       "      <th>construction_cost</th>\n",
       "    </tr>\n",
       "  </thead>\n",
       "  <tbody>\n",
       "    <tr>\n",
       "      <th>0</th>\n",
       "      <td>ITA</td>\n",
       "      <td>98</td>\n",
       "      <td>8</td>\n",
       "      <td>400</td>\n",
       "    </tr>\n",
       "    <tr>\n",
       "      <th>1</th>\n",
       "      <td>BEL</td>\n",
       "      <td>58</td>\n",
       "      <td>0</td>\n",
       "      <td>800</td>\n",
       "    </tr>\n",
       "    <tr>\n",
       "      <th>2</th>\n",
       "      <td>GER</td>\n",
       "      <td>66</td>\n",
       "      <td>5</td>\n",
       "      <td>1000</td>\n",
       "    </tr>\n",
       "    <tr>\n",
       "      <th>3</th>\n",
       "      <td>SWE</td>\n",
       "      <td>74</td>\n",
       "      <td>3</td>\n",
       "      <td>600</td>\n",
       "    </tr>\n",
       "    <tr>\n",
       "      <th>4</th>\n",
       "      <td>AUT</td>\n",
       "      <td>80</td>\n",
       "      <td>7</td>\n",
       "      <td>200</td>\n",
       "    </tr>\n",
       "    <tr>\n",
       "      <th>5</th>\n",
       "      <td>FRA</td>\n",
       "      <td>82</td>\n",
       "      <td>10</td>\n",
       "      <td>600</td>\n",
       "    </tr>\n",
       "  </tbody>\n",
       "</table>\n",
       "</div>"
      ],
      "text/plain": [
       "  country  power  safety  construction_cost\n",
       "0     ITA     98       8                400\n",
       "1     BEL     58       0                800\n",
       "2     GER     66       5               1000\n",
       "3     SWE     74       3                600\n",
       "4     AUT     80       7                200\n",
       "5     FRA     82      10                600"
      ]
     },
     "execution_count": 3,
     "metadata": {},
     "output_type": "execute_result"
    }
   ],
   "source": [
    "alternatives"
   ]
  },
  {
   "cell_type": "code",
   "execution_count": 4,
   "metadata": {},
   "outputs": [
    {
     "data": {
      "text/html": [
       "<div>\n",
       "<style scoped>\n",
       "    .dataframe tbody tr th:only-of-type {\n",
       "        vertical-align: middle;\n",
       "    }\n",
       "\n",
       "    .dataframe tbody tr th {\n",
       "        vertical-align: top;\n",
       "    }\n",
       "\n",
       "    .dataframe thead th {\n",
       "        text-align: right;\n",
       "    }\n",
       "</style>\n",
       "<table border=\"1\" class=\"dataframe\">\n",
       "  <thead>\n",
       "    <tr style=\"text-align: right;\">\n",
       "      <th></th>\n",
       "      <th>criterion_name</th>\n",
       "      <th>criterion_type</th>\n",
       "      <th>indifference</th>\n",
       "      <th>preference</th>\n",
       "      <th>veto</th>\n",
       "      <th>weight</th>\n",
       "    </tr>\n",
       "  </thead>\n",
       "  <tbody>\n",
       "    <tr>\n",
       "      <th>0</th>\n",
       "      <td>power</td>\n",
       "      <td>gain</td>\n",
       "      <td>0</td>\n",
       "      <td>0.000001</td>\n",
       "      <td>NaN</td>\n",
       "      <td>3</td>\n",
       "    </tr>\n",
       "    <tr>\n",
       "      <th>1</th>\n",
       "      <td>safety</td>\n",
       "      <td>gain</td>\n",
       "      <td>0</td>\n",
       "      <td>2.000000</td>\n",
       "      <td>NaN</td>\n",
       "      <td>2</td>\n",
       "    </tr>\n",
       "    <tr>\n",
       "      <th>2</th>\n",
       "      <td>construction_cost</td>\n",
       "      <td>cost</td>\n",
       "      <td>100</td>\n",
       "      <td>300.000000</td>\n",
       "      <td>NaN</td>\n",
       "      <td>5</td>\n",
       "    </tr>\n",
       "  </tbody>\n",
       "</table>\n",
       "</div>"
      ],
      "text/plain": [
       "      criterion_name criterion_type  indifference  preference  veto  weight\n",
       "0              power           gain             0    0.000001   NaN       3\n",
       "1             safety           gain             0    2.000000   NaN       2\n",
       "2  construction_cost           cost           100  300.000000   NaN       5"
      ]
     },
     "execution_count": 4,
     "metadata": {},
     "output_type": "execute_result"
    }
   ],
   "source": [
    "criteria"
   ]
  },
  {
   "cell_type": "code",
   "execution_count": 5,
   "metadata": {},
   "outputs": [
    {
     "data": {
      "text/plain": [
       "True"
      ]
     },
     "execution_count": 5,
     "metadata": {},
     "output_type": "execute_result"
    }
   ],
   "source": [
    "from validate_input import validate_input\n",
    "validate_input(alternatives, criteria)"
   ]
  },
  {
   "cell_type": "code",
   "execution_count": 6,
   "metadata": {},
   "outputs": [
    {
     "name": "stdout",
     "output_type": "stream",
     "text": [
      "criterion_name       power\n",
      "criterion_type        gain\n",
      "indifference             0\n",
      "preference        0.000001\n",
      "veto                   NaN\n",
      "weight                   3\n",
      "Name: 0, dtype: object\n"
     ]
    }
   ],
   "source": [
    "print(criteria.iloc[0])"
   ]
  },
  {
   "cell_type": "code",
   "execution_count": 7,
   "metadata": {},
   "outputs": [],
   "source": [
    "# compute preference between alternatives a and b\n",
    "def marginal_preference_index(a: pd.Series, b: pd.Series, criterion: pd.Series) -> float:\n",
    "    p = criterion[\"preference\"]\n",
    "    q = criterion[\"indifference\"]\n",
    "    criterion_type = criterion[\"criterion_type\"]\n",
    "    criterion_name = criterion[\"criterion_name\"]\n",
    "    a_val = a[criterion_name]\n",
    "    b_val = b[criterion_name]\n",
    "    difference = a_val - b_val\n",
    "    if criterion_type == \"cost\":\n",
    "        difference *= -1\n",
    "\n",
    "    if difference > p:\n",
    "        return 1\n",
    "    if difference <= q:\n",
    "        return 0\n",
    "    return (difference - q) / (p-q)"
   ]
  },
  {
   "cell_type": "code",
   "execution_count": 8,
   "metadata": {},
   "outputs": [],
   "source": [
    "def comprehensive_preference_index(a: pd.Series, b: pd.Series, criteria: pd.DataFrame) -> float:\n",
    "    numerator_sum = sum([marginal_preference_index(a, b, criterion[1])*criterion[1][\"weight\"] for criterion in criteria.iterrows()])\n",
    "    sum_of_weights = sum([criterion[1][\"weight\"] for criterion in criteria.iterrows()])\n",
    "    return numerator_sum/sum_of_weights"
   ]
  },
  {
   "cell_type": "code",
   "execution_count": 9,
   "metadata": {},
   "outputs": [
    {
     "name": "stdout",
     "output_type": "stream",
     "text": [
      "ITA BEL 1.0\n",
      "ITA GER 1.0\n",
      "ITA SWE 0.75\n",
      "ITA AUT 0.4\n",
      "ITA FRA 0.55\n",
      "BEL ITA 0.0\n",
      "BEL GER 0.25\n",
      "BEL SWE 0.0\n",
      "BEL AUT 0.0\n",
      "BEL FRA 0.0\n",
      "GER ITA 0.0\n",
      "GER BEL 0.5\n",
      "GER SWE 0.2\n",
      "GER AUT 0.0\n",
      "GER FRA 0.0\n",
      "SWE ITA 0.0\n",
      "SWE BEL 0.75\n",
      "SWE GER 0.8\n",
      "SWE AUT 0.0\n",
      "SWE FRA 0.0\n",
      "AUT ITA 0.25\n",
      "AUT BEL 1.0\n",
      "AUT GER 1.0\n",
      "AUT SWE 1.0\n",
      "AUT FRA 0.5\n",
      "FRA ITA 0.2\n",
      "FRA BEL 0.75\n",
      "FRA GER 1.0\n",
      "FRA SWE 0.5\n",
      "FRA AUT 0.5\n"
     ]
    }
   ],
   "source": [
    "# TODO delete this cell after its outputs are discussed by the developers\n",
    "# different results for FRA-AUT and AUT-FRA than in the presentation\n",
    "# manual verification suggests that Milosz made an oopsie\n",
    "for alternative in alternatives.iterrows():\n",
    "    for b_alternative in alternatives.iterrows():\n",
    "        if alternative[0] == b_alternative[0]:\n",
    "            continue\n",
    "\n",
    "        print(alternative[1][0], b_alternative[1][0], comprehensive_preference_index(alternative[1], b_alternative[1], criteria))"
   ]
  },
  {
   "cell_type": "code",
   "execution_count": 10,
   "metadata": {},
   "outputs": [],
   "source": [
    "def positive_flow(alternative: pd.Series, alternatives: pd.DataFrame, criteria: pd.DataFrame) -> float:\n",
    "    flow = 0\n",
    "    for b_alternative in alternatives.iterrows():\n",
    "        if alternative[0] == b_alternative[0]:\n",
    "            continue\n",
    "        flow += comprehensive_preference_index(alternative[1], b_alternative[1], criteria)\n",
    "    return flow\n",
    "\n",
    "def negative_flow(alternative, alternatives, criteria):\n",
    "    flow = 0\n",
    "    for b_alternative in alternatives.iterrows():\n",
    "        if alternative[0] == b_alternative[0]:\n",
    "            continue\n",
    "        flow += comprehensive_preference_index(b_alternative[1], alternative[1], criteria)\n",
    "    return flow"
   ]
  },
  {
   "cell_type": "code",
   "execution_count": 11,
   "metadata": {},
   "outputs": [
    {
     "name": "stdout",
     "output_type": "stream",
     "text": [
      "ITA 3.7 0.45\n",
      "BEL 0.25 4.0\n",
      "GER 0.7 4.05\n",
      "SWE 1.55 2.45\n",
      "AUT 3.75 0.9\n",
      "FRA 2.95 1.05\n"
     ]
    }
   ],
   "source": [
    "# again, the results for AUT and FRA are different than in the lecture\n",
    "# they are however consistent with the results obtained earlier on in the notebook\n",
    "for alternative in alternatives.iterrows():\n",
    "    print(alternative[1][0],\n",
    "          positive_flow(alternative, alternatives, criteria),\n",
    "          negative_flow(alternative, alternatives, criteria))"
   ]
  },
  {
   "cell_type": "code",
   "execution_count": 12,
   "metadata": {},
   "outputs": [
    {
     "name": "stdout",
     "output_type": "stream",
     "text": [
      "// Test\n",
      "digraph {\n",
      "\tA [label=A]\n",
      "\tB [label=B]\n",
      "\tC [label=C]\n",
      "\tA -> B\n",
      "\tA -> C\n",
      "\tB -> C\n",
      "}\n",
      "\n"
     ]
    }
   ],
   "source": [
    "g = graphviz.Digraph(comment=\"Test\")\n",
    "g.node(\"A\", \"A\")\n",
    "g.node(\"B\", \"B\")\n",
    "g.node(\"C\", \"C\")\n",
    "g.edges([\"AB\", \"AC\", \"BC\"])\n",
    "print(g.source)"
   ]
  },
  {
   "cell_type": "code",
   "execution_count": 13,
   "metadata": {},
   "outputs": [
    {
     "data": {
      "image/svg+xml": "<?xml version=\"1.0\" encoding=\"UTF-8\" standalone=\"no\"?>\n<!DOCTYPE svg PUBLIC \"-//W3C//DTD SVG 1.1//EN\"\n \"http://www.w3.org/Graphics/SVG/1.1/DTD/svg11.dtd\">\n<!-- Generated by graphviz version 2.43.0 (0)\n -->\n<!-- Title: %3 Pages: 1 -->\n<svg width=\"89pt\" height=\"188pt\"\n viewBox=\"0.00 0.00 89.00 188.00\" xmlns=\"http://www.w3.org/2000/svg\" xmlns:xlink=\"http://www.w3.org/1999/xlink\">\n<g id=\"graph0\" class=\"graph\" transform=\"scale(1 1) rotate(0) translate(4 184)\">\n<title>%3</title>\n<polygon fill=\"white\" stroke=\"transparent\" points=\"-4,4 -4,-184 85,-184 85,4 -4,4\"/>\n<!-- A -->\n<g id=\"node1\" class=\"node\">\n<title>A</title>\n<ellipse fill=\"none\" stroke=\"black\" cx=\"54\" cy=\"-162\" rx=\"27\" ry=\"18\"/>\n<text text-anchor=\"middle\" x=\"54\" y=\"-158.3\" font-family=\"Times,serif\" font-size=\"14.00\">A</text>\n</g>\n<!-- B -->\n<g id=\"node2\" class=\"node\">\n<title>B</title>\n<ellipse fill=\"none\" stroke=\"black\" cx=\"27\" cy=\"-90\" rx=\"27\" ry=\"18\"/>\n<text text-anchor=\"middle\" x=\"27\" y=\"-86.3\" font-family=\"Times,serif\" font-size=\"14.00\">B</text>\n</g>\n<!-- A&#45;&gt;B -->\n<g id=\"edge1\" class=\"edge\">\n<title>A&#45;&gt;B</title>\n<path fill=\"none\" stroke=\"black\" d=\"M47.6,-144.41C44.49,-136.34 40.67,-126.43 37.17,-117.35\"/>\n<polygon fill=\"black\" stroke=\"black\" points=\"40.4,-116.03 33.54,-107.96 33.87,-118.55 40.4,-116.03\"/>\n</g>\n<!-- C -->\n<g id=\"node3\" class=\"node\">\n<title>C</title>\n<ellipse fill=\"none\" stroke=\"black\" cx=\"54\" cy=\"-18\" rx=\"27\" ry=\"18\"/>\n<text text-anchor=\"middle\" x=\"54\" y=\"-14.3\" font-family=\"Times,serif\" font-size=\"14.00\">C</text>\n</g>\n<!-- A&#45;&gt;C -->\n<g id=\"edge2\" class=\"edge\">\n<title>A&#45;&gt;C</title>\n<path fill=\"none\" stroke=\"black\" d=\"M57.65,-143.91C59.68,-133.57 61.98,-120.09 63,-108 64.34,-92.06 64.34,-87.94 63,-72 62.28,-63.5 60.93,-54.31 59.49,-46.01\"/>\n<polygon fill=\"black\" stroke=\"black\" points=\"62.91,-45.29 57.65,-36.09 56.03,-46.56 62.91,-45.29\"/>\n</g>\n<!-- B&#45;&gt;C -->\n<g id=\"edge3\" class=\"edge\">\n<title>B&#45;&gt;C</title>\n<path fill=\"none\" stroke=\"black\" d=\"M33.4,-72.41C36.51,-64.34 40.33,-54.43 43.83,-45.35\"/>\n<polygon fill=\"black\" stroke=\"black\" points=\"47.13,-46.55 47.46,-35.96 40.6,-44.03 47.13,-46.55\"/>\n</g>\n</g>\n</svg>\n",
      "text/plain": [
       "<graphviz.graphs.Digraph at 0x7f7513d4e7d0>"
      ]
     },
     "execution_count": 13,
     "metadata": {},
     "output_type": "execute_result"
    }
   ],
   "source": [
    "g"
   ]
  },
  {
   "cell_type": "code",
   "execution_count": 81,
   "metadata": {},
   "outputs": [],
   "source": [
    "def incomplete_ranking_to_graph(ranking: list, relations_dict: dict):\n",
    "    # to differentiate between incomparability and indifference\n",
    "    def group_alternatives_in_ranking(ranking: list, relations_dict: dict):\n",
    "        grouped_ranking = []\n",
    "        for level in ranking:\n",
    "            # all alternatives on the same level are either PAIRWISE indifferent or incomparable\n",
    "            # alternatives within a level are divided into groups of indifferent alternatives\n",
    "            # the alternatives in different groups are incomparable to each other\n",
    "            if len(level) == 1:\n",
    "                grouped_ranking.append([level])\n",
    "                continue\n",
    "            ungrouped_alternatives = level[1:]\n",
    "            current_group = [level[0]]\n",
    "            grouped_alternatives = []\n",
    "            while ungrouped_alternatives:\n",
    "                alternatives_to_group = []\n",
    "                for alternative in ungrouped_alternatives:\n",
    "                    if current_group[0] == alternative:\n",
    "                        continue\n",
    "                    if relations_dict[(current_group[0], alternative)] == \"I\":\n",
    "                        current_group.append(alternative)\n",
    "                        alternatives_to_group.append(alternative)\n",
    "                grouped_alternatives.append(current_group)\n",
    "                for alternative in alternatives_to_group:\n",
    "                    ungrouped_alternatives.remove(alternative)\n",
    "                current_group = []\n",
    "                if ungrouped_alternatives:\n",
    "                    current_group = [ungrouped_alternatives[0]]\n",
    "                    ungrouped_alternatives.remove(ungrouped_alternatives[0])\n",
    "            if current_group:\n",
    "                grouped_alternatives.append(current_group)\n",
    "            grouped_ranking.append(grouped_alternatives)\n",
    "        return grouped_ranking\n",
    "    grouped_ranking = group_alternatives_in_ranking(ranking, relations_dict)\n",
    "    ranking_graph = graphviz.Digraph(comment=\"Ranking of alternatives\")\n",
    "    # add the top level to the graph\n",
    "    print(grouped_ranking)\n",
    "    for group in grouped_ranking[0]:\n",
    "        node_label = ' '.join(group)\n",
    "        ranking_graph.node(node_label, node_label)\n",
    "    previous_level = grouped_ranking[0]\n",
    "    # for lower levels, add connection from upper groups to these\n",
    "    for level in grouped_ranking[1:]:\n",
    "        for group in level:\n",
    "            pass\n",
    "        \n",
    "    return ranking_graph"
   ]
  },
  {
   "cell_type": "code",
   "execution_count": 83,
   "metadata": {},
   "outputs": [
    {
     "name": "stdout",
     "output_type": "stream",
     "text": [
      "[[['a1']], [['a6'], ['a8']], [['a5'], ['a7']], [['a2']], [['a4']], [['a3']]]\n"
     ]
    },
    {
     "data": {
      "image/svg+xml": "<?xml version=\"1.0\" encoding=\"UTF-8\" standalone=\"no\"?>\n<!DOCTYPE svg PUBLIC \"-//W3C//DTD SVG 1.1//EN\"\n \"http://www.w3.org/Graphics/SVG/1.1/DTD/svg11.dtd\">\n<!-- Generated by graphviz version 2.43.0 (0)\n -->\n<!-- Title: %3 Pages: 1 -->\n<svg width=\"62pt\" height=\"44pt\"\n viewBox=\"0.00 0.00 62.00 44.00\" xmlns=\"http://www.w3.org/2000/svg\" xmlns:xlink=\"http://www.w3.org/1999/xlink\">\n<g id=\"graph0\" class=\"graph\" transform=\"scale(1 1) rotate(0) translate(4 40)\">\n<title>%3</title>\n<polygon fill=\"white\" stroke=\"transparent\" points=\"-4,4 -4,-40 58,-40 58,4 -4,4\"/>\n<!-- a1 -->\n<g id=\"node1\" class=\"node\">\n<title>a1</title>\n<ellipse fill=\"none\" stroke=\"black\" cx=\"27\" cy=\"-18\" rx=\"27\" ry=\"18\"/>\n<text text-anchor=\"middle\" x=\"27\" y=\"-14.3\" font-family=\"Times,serif\" font-size=\"14.00\">a1</text>\n</g>\n</g>\n</svg>\n",
      "text/plain": [
       "<graphviz.graphs.Digraph at 0x7f7513dc0760>"
      ]
     },
     "execution_count": 83,
     "metadata": {},
     "output_type": "execute_result"
    }
   ],
   "source": [
    "test_ranking = [[\"a1\"], [\"a6\", \"a8\"], [\"a5\", \"a7\"], [\"a2\"], [\"a4\"], [\"a3\"]]\n",
    "test_dict = dict([\n",
    "    ((\"a1\", \"a2\"), \"P\"), ((\"a1\", \"a3\"), \"P\"), ((\"a1\", \"a4\"), \"P\"), ((\"a1\", \"a5\"), \"P\"), ((\"a1\", \"a6\"), \"P\"), ((\"a1\", \"a7\"), \"P\"), ((\"a1\", \"a8\"), \"P\"), \n",
    "    ((\"a2\", \"a3\"), \"P\"), ((\"a2\", \"a4\"), \"P\"), ((\"a2\", \"a7\"), \"?\"),\n",
    "    # a3 is not preferred to anything\n",
    "    ((\"a4\", \"a3\"), \"P\"), ((\"a4\", \"a7\"), \"?\"),\n",
    "    ((\"a5\", \"a2\"), \"P\"), ((\"a5\", \"a3\"), \"P\"), ((\"a5\", \"a4\"), \"P\"), ((\"a5\", \"a7\"), \"?\"),\n",
    "    ((\"a6\", \"a2\"), \"P\"), ((\"a6\", \"a3\"), \"P\"), ((\"a6\", \"a4\"), \"P\"), ((\"a6\", \"a5\"), \"P\"), ((\"a6\", \"a7\"), \"P\"), ((\"a6\", \"a8\"), \"?\"),\n",
    "    ((\"a7\", \"a3\"), \"P\"),\n",
    "    ((\"a8\", \"a2\"), \"P\"), ((\"a8\", \"a3\"), \"P\"), ((\"a8\", \"a4\"), \"P\"), ((\"a8\", \"a5\"), \"P\"), ((\"a8\", \"a6\"), \"?\"), ((\"a8\", \"a7\"), \"P\"),\n",
    "    ])\n",
    "incomplete_ranking_to_graph(test_ranking, test_dict)"
   ]
  },
  {
   "cell_type": "code",
   "execution_count": 79,
   "metadata": {},
   "outputs": [],
   "source": [
    "# TODO: implement\n",
    "# still work in progress\n",
    "def PROMETHEE1_ranking(alternatives: pd.DataFrame, criteria: pd.DataFrame):\n",
    "    # determining relations between all pairs of alternatives based on positive and negative flows\n",
    "    positive_flow_dict = dict((a[1][0], positive_flow(a, alternatives, criteria))\n",
    "                               for a in alternatives.iterrows())\n",
    "    negative_flow_dict = dict((a[1][0], negative_flow(a, alternatives, criteria))\n",
    "                               for a in alternatives.iterrows())\n",
    "    alternative_names = alternatives.iloc[:, 0].tolist()\n",
    "    relations_dict = dict()\n",
    "    for name in alternative_names:\n",
    "        for different_name in alternative_names:\n",
    "            if name == different_name:\n",
    "                continue\n",
    "            if ((positive_flow_dict[name] >= positive_flow_dict[different_name] and\n",
    "                negative_flow_dict[name] < negative_flow_dict[different_name]) or\n",
    "               (positive_flow_dict[name] > positive_flow_dict[different_name] and\n",
    "                negative_flow_dict[name] <= negative_flow_dict[different_name])):\n",
    "                relations_dict[(name, different_name)] = 'P'\n",
    "            elif (positive_flow_dict[name] == positive_flow_dict[different_name] and\n",
    "                  negative_flow_dict[name] == negative_flow_dict[different_name]):\n",
    "                relations_dict[((name, different_name))] = 'I'\n",
    "            elif ((positive_flow_dict[name] > positive_flow_dict[different_name] and\n",
    "                negative_flow_dict[name] > negative_flow_dict[different_name]) or\n",
    "               (positive_flow_dict[name] < positive_flow_dict[different_name] and\n",
    "                negative_flow_dict[name] < negative_flow_dict[different_name])):\n",
    "                relations_dict[(name, different_name)] = '?'\n",
    "\n",
    "    # key: alternative; value: list of all alternatives preferred to it\n",
    "    # the outranking alternatives are removed step-by-step as the ranking is built from top to bottom\n",
    "    # e. g. a dictionary: {a: [], b: [a], c: [a, b]} represents the ranking: a>b>c\n",
    "    # after the first iteration of the while loop it is updated to {a: [], b: [], c: [b]}\n",
    "    # and after the second (final): {a: [], b: [], c: []}\n",
    "    preference_losers_dict = dict((alternative_name, []) for alternative_name in alternative_names)\n",
    "    unranked_alternatives = alternative_names\n",
    "    for pair, relation in relations_dict.items():\n",
    "        if relation != \"P\":\n",
    "            continue\n",
    "        preference_losers_dict[pair[1]].append(pair[0])\n",
    "    ranking = []\n",
    "    while unranked_alternatives:\n",
    "        alternatives_to_add_to_ranking = []\n",
    "        # find alternatives that have no direct \"outrankers\" left in the dictionary\n",
    "        for alternative_name in unranked_alternatives:\n",
    "            if preference_losers_dict[alternative_name]:\n",
    "                continue\n",
    "            alternatives_to_add_to_ranking.append(alternative_name)\n",
    "\n",
    "        # adding the found alternatives to the ranking as a block of not-preferred to each other alternatives\n",
    "        ranking.append(alternatives_to_add_to_ranking)\n",
    "\n",
    "        # remove the alternatives that are going to be added to the ranking\n",
    "        # from serving as \"outrankers\" in the preference_losers_dict\n",
    "        for alternative in unranked_alternatives:\n",
    "            for alternative_to_add_to_ranking in alternatives_to_add_to_ranking:\n",
    "                if alternative_to_add_to_ranking in preference_losers_dict[alternative]:\n",
    "                    preference_losers_dict[alternative].remove(alternative_to_add_to_ranking)\n",
    "        # remove the found alternatives from unranked\n",
    "        for alternative in alternatives_to_add_to_ranking:\n",
    "            unranked_alternatives.remove(alternative)\n",
    "\n",
    "\n",
    "    return incomplete_ranking_to_graph(ranking, relations_dict)"
   ]
  },
  {
   "cell_type": "code",
   "execution_count": 80,
   "metadata": {},
   "outputs": [
    {
     "data": {
      "image/svg+xml": "<?xml version=\"1.0\" encoding=\"UTF-8\" standalone=\"no\"?>\n<!DOCTYPE svg PUBLIC \"-//W3C//DTD SVG 1.1//EN\"\n \"http://www.w3.org/Graphics/SVG/1.1/DTD/svg11.dtd\">\n<!-- Generated by graphviz version 2.43.0 (0)\n -->\n<!-- Title: %3 Pages: 1 -->\n<svg width=\"466pt\" height=\"44pt\"\n viewBox=\"0.00 0.00 465.85 44.00\" xmlns=\"http://www.w3.org/2000/svg\" xmlns:xlink=\"http://www.w3.org/1999/xlink\">\n<g id=\"graph0\" class=\"graph\" transform=\"scale(1 1) rotate(0) translate(4 40)\">\n<title>%3</title>\n<polygon fill=\"white\" stroke=\"transparent\" points=\"-4,4 -4,-40 461.85,-40 461.85,4 -4,4\"/>\n<!-- ITA -->\n<g id=\"node1\" class=\"node\">\n<title>ITA</title>\n<ellipse fill=\"none\" stroke=\"black\" cx=\"27\" cy=\"-18\" rx=\"27\" ry=\"18\"/>\n<text text-anchor=\"middle\" x=\"27\" y=\"-14.3\" font-family=\"Times,serif\" font-size=\"14.00\">ITA</text>\n</g>\n<!-- AUT -->\n<g id=\"node2\" class=\"node\">\n<title>AUT</title>\n<ellipse fill=\"none\" stroke=\"black\" cx=\"103\" cy=\"-18\" rx=\"30.59\" ry=\"18\"/>\n<text text-anchor=\"middle\" x=\"103\" y=\"-14.3\" font-family=\"Times,serif\" font-size=\"14.00\">AUT</text>\n</g>\n<!-- FRA -->\n<g id=\"node3\" class=\"node\">\n<title>FRA</title>\n<ellipse fill=\"none\" stroke=\"black\" cx=\"182\" cy=\"-18\" rx=\"30.59\" ry=\"18\"/>\n<text text-anchor=\"middle\" x=\"182\" y=\"-14.3\" font-family=\"Times,serif\" font-size=\"14.00\">FRA</text>\n</g>\n<!-- SWE -->\n<g id=\"node4\" class=\"node\">\n<title>SWE</title>\n<ellipse fill=\"none\" stroke=\"black\" cx=\"264\" cy=\"-18\" rx=\"33.29\" ry=\"18\"/>\n<text text-anchor=\"middle\" x=\"264\" y=\"-14.3\" font-family=\"Times,serif\" font-size=\"14.00\">SWE</text>\n</g>\n<!-- BEL -->\n<g id=\"node5\" class=\"node\">\n<title>BEL</title>\n<ellipse fill=\"none\" stroke=\"black\" cx=\"346\" cy=\"-18\" rx=\"30.59\" ry=\"18\"/>\n<text text-anchor=\"middle\" x=\"346\" y=\"-14.3\" font-family=\"Times,serif\" font-size=\"14.00\">BEL</text>\n</g>\n<!-- GER -->\n<g id=\"node6\" class=\"node\">\n<title>GER</title>\n<ellipse fill=\"none\" stroke=\"black\" cx=\"426\" cy=\"-18\" rx=\"31.7\" ry=\"18\"/>\n<text text-anchor=\"middle\" x=\"426\" y=\"-14.3\" font-family=\"Times,serif\" font-size=\"14.00\">GER</text>\n</g>\n</g>\n</svg>\n",
      "text/plain": [
       "<graphviz.graphs.Digraph at 0x7f7513f0bb20>"
      ]
     },
     "execution_count": 80,
     "metadata": {},
     "output_type": "execute_result"
    }
   ],
   "source": [
    "PROMETHEE1_ranking(alternatives, criteria)"
   ]
  },
  {
   "cell_type": "code",
   "execution_count": 14,
   "metadata": {},
   "outputs": [],
   "source": [
    "def PROMETHEE2_ranking(alternatives: pd.DataFrame, criteria: pd.DataFrame) -> list:\n",
    "    ranking = sorted([(a[1][0], \n",
    "                       positive_flow(a, alternatives, criteria)-negative_flow(a, alternatives, criteria))\n",
    "                       for a in alternatives.iterrows()], \n",
    "                       key = lambda x: x[1], reverse=True)\n",
    "    ranking = [(name, round(score, 2)) for (name, score) in ranking]\n",
    "    return ranking"
   ]
  },
  {
   "cell_type": "code",
   "execution_count": 15,
   "metadata": {},
   "outputs": [
    {
     "data": {
      "text/plain": [
       "[('ITA', 3.25),\n",
       " ('AUT', 2.85),\n",
       " ('FRA', 1.9),\n",
       " ('SWE', -0.9),\n",
       " ('GER', -3.35),\n",
       " ('BEL', -3.75)]"
      ]
     },
     "execution_count": 15,
     "metadata": {},
     "output_type": "execute_result"
    }
   ],
   "source": [
    "PROMETHEE2_ranking(alternatives, criteria)"
   ]
  },
  {
   "cell_type": "code",
   "execution_count": null,
   "metadata": {},
   "outputs": [],
   "source": []
  }
 ],
 "metadata": {
  "kernelspec": {
   "display_name": "Python 3",
   "language": "python",
   "name": "python3"
  },
  "language_info": {
   "codemirror_mode": {
    "name": "ipython",
    "version": 3
   },
   "file_extension": ".py",
   "mimetype": "text/x-python",
   "name": "python",
   "nbconvert_exporter": "python",
   "pygments_lexer": "ipython3",
   "version": "3.10.6"
  },
  "orig_nbformat": 4
 },
 "nbformat": 4,
 "nbformat_minor": 2
}
