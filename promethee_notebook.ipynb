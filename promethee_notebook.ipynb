{
 "cells": [
  {
   "cell_type": "code",
   "execution_count": 2,
   "metadata": {},
   "outputs": [],
   "source": [
    "import pandas as pd"
   ]
  },
  {
   "cell_type": "code",
   "execution_count": 5,
   "metadata": {},
   "outputs": [],
   "source": [
    "alternatives = pd.read_csv(\"./data/milosz_alternatives1.csv\")\n",
    "criteria = pd.read_csv(\"./data/milosz_criteria1.csv\")"
   ]
  },
  {
   "cell_type": "code",
   "execution_count": 6,
   "metadata": {},
   "outputs": [
    {
     "data": {
      "text/html": [
       "<div>\n",
       "<style scoped>\n",
       "    .dataframe tbody tr th:only-of-type {\n",
       "        vertical-align: middle;\n",
       "    }\n",
       "\n",
       "    .dataframe tbody tr th {\n",
       "        vertical-align: top;\n",
       "    }\n",
       "\n",
       "    .dataframe thead th {\n",
       "        text-align: right;\n",
       "    }\n",
       "</style>\n",
       "<table border=\"1\" class=\"dataframe\">\n",
       "  <thead>\n",
       "    <tr style=\"text-align: right;\">\n",
       "      <th></th>\n",
       "      <th>country</th>\n",
       "      <th>power</th>\n",
       "      <th>safety</th>\n",
       "      <th>construction_cost</th>\n",
       "    </tr>\n",
       "  </thead>\n",
       "  <tbody>\n",
       "    <tr>\n",
       "      <th>0</th>\n",
       "      <td>ITA</td>\n",
       "      <td>98</td>\n",
       "      <td>8</td>\n",
       "      <td>400</td>\n",
       "    </tr>\n",
       "    <tr>\n",
       "      <th>1</th>\n",
       "      <td>BEL</td>\n",
       "      <td>58</td>\n",
       "      <td>0</td>\n",
       "      <td>800</td>\n",
       "    </tr>\n",
       "    <tr>\n",
       "      <th>2</th>\n",
       "      <td>GER</td>\n",
       "      <td>66</td>\n",
       "      <td>5</td>\n",
       "      <td>1000</td>\n",
       "    </tr>\n",
       "    <tr>\n",
       "      <th>3</th>\n",
       "      <td>SWE</td>\n",
       "      <td>74</td>\n",
       "      <td>3</td>\n",
       "      <td>600</td>\n",
       "    </tr>\n",
       "    <tr>\n",
       "      <th>4</th>\n",
       "      <td>AUT</td>\n",
       "      <td>80</td>\n",
       "      <td>7</td>\n",
       "      <td>200</td>\n",
       "    </tr>\n",
       "    <tr>\n",
       "      <th>5</th>\n",
       "      <td>FRA</td>\n",
       "      <td>82</td>\n",
       "      <td>10</td>\n",
       "      <td>600</td>\n",
       "    </tr>\n",
       "  </tbody>\n",
       "</table>\n",
       "</div>"
      ],
      "text/plain": [
       "  country  power  safety  construction_cost\n",
       "0     ITA     98       8                400\n",
       "1     BEL     58       0                800\n",
       "2     GER     66       5               1000\n",
       "3     SWE     74       3                600\n",
       "4     AUT     80       7                200\n",
       "5     FRA     82      10                600"
      ]
     },
     "execution_count": 6,
     "metadata": {},
     "output_type": "execute_result"
    }
   ],
   "source": [
    "alternatives"
   ]
  },
  {
   "cell_type": "code",
   "execution_count": 7,
   "metadata": {},
   "outputs": [
    {
     "data": {
      "text/html": [
       "<div>\n",
       "<style scoped>\n",
       "    .dataframe tbody tr th:only-of-type {\n",
       "        vertical-align: middle;\n",
       "    }\n",
       "\n",
       "    .dataframe tbody tr th {\n",
       "        vertical-align: top;\n",
       "    }\n",
       "\n",
       "    .dataframe thead th {\n",
       "        text-align: right;\n",
       "    }\n",
       "</style>\n",
       "<table border=\"1\" class=\"dataframe\">\n",
       "  <thead>\n",
       "    <tr style=\"text-align: right;\">\n",
       "      <th></th>\n",
       "      <th>criterion_name</th>\n",
       "      <th>criterion_type</th>\n",
       "      <th>indifference</th>\n",
       "      <th>preference</th>\n",
       "      <th>veto</th>\n",
       "      <th>weight</th>\n",
       "    </tr>\n",
       "  </thead>\n",
       "  <tbody>\n",
       "    <tr>\n",
       "      <th>0</th>\n",
       "      <td>power</td>\n",
       "      <td>gain</td>\n",
       "      <td>0</td>\n",
       "      <td>0.000001</td>\n",
       "      <td>NaN</td>\n",
       "      <td>3</td>\n",
       "    </tr>\n",
       "    <tr>\n",
       "      <th>1</th>\n",
       "      <td>safety</td>\n",
       "      <td>gain</td>\n",
       "      <td>0</td>\n",
       "      <td>2.000000</td>\n",
       "      <td>NaN</td>\n",
       "      <td>2</td>\n",
       "    </tr>\n",
       "    <tr>\n",
       "      <th>2</th>\n",
       "      <td>construction_cost</td>\n",
       "      <td>cost</td>\n",
       "      <td>100</td>\n",
       "      <td>300.000000</td>\n",
       "      <td>NaN</td>\n",
       "      <td>5</td>\n",
       "    </tr>\n",
       "  </tbody>\n",
       "</table>\n",
       "</div>"
      ],
      "text/plain": [
       "      criterion_name criterion_type  indifference  preference  veto  weight\n",
       "0              power           gain             0    0.000001   NaN       3\n",
       "1             safety           gain             0    2.000000   NaN       2\n",
       "2  construction_cost           cost           100  300.000000   NaN       5"
      ]
     },
     "execution_count": 7,
     "metadata": {},
     "output_type": "execute_result"
    }
   ],
   "source": [
    "criteria"
   ]
  },
  {
   "cell_type": "code",
   "execution_count": 15,
   "metadata": {},
   "outputs": [
    {
     "data": {
      "text/plain": [
       "True"
      ]
     },
     "execution_count": 15,
     "metadata": {},
     "output_type": "execute_result"
    }
   ],
   "source": [
    "from validate_input import validate_input\n",
    "validate_input(alternatives, criteria)"
   ]
  },
  {
   "cell_type": "code",
   "execution_count": 6,
   "metadata": {},
   "outputs": [
    {
     "name": "stdout",
     "output_type": "stream",
     "text": [
      "criterion_name       power\n",
      "criterion_type        gain\n",
      "indifference             0\n",
      "preference        0.000001\n",
      "veto                   NaN\n",
      "weight                   3\n",
      "Name: 0, dtype: object\n"
     ]
    }
   ],
   "source": [
    "print(criteria.iloc[0])"
   ]
  },
  {
   "cell_type": "code",
   "execution_count": 19,
   "metadata": {},
   "outputs": [],
   "source": [
    "# compute preference between alternatives a and b\n",
    "def marginal_preference_index(a, b, criterion):\n",
    "    p = criterion[\"preference\"]\n",
    "    q = criterion[\"indifference\"]\n",
    "    criterion_type = criterion[\"criterion_type\"]\n",
    "    criterion_name = criterion[\"criterion_name\"]\n",
    "    a_val = a[criterion_name]\n",
    "    b_val = b[criterion_name]\n",
    "    difference = a_val - b_val\n",
    "    if criterion_type == \"cost\":\n",
    "        difference *= -1\n",
    "\n",
    "    if difference > p:\n",
    "        return 1\n",
    "    if difference <= q:\n",
    "        return 0\n",
    "    return (difference - q) / (p-q)"
   ]
  },
  {
   "cell_type": "code",
   "execution_count": 30,
   "metadata": {},
   "outputs": [],
   "source": [
    "def comprehensive_preference_index(a, b, criteria):\n",
    "    numerator_sum = sum([marginal_preference_index(a, b, criterion[1])*criterion[1][\"weight\"] for criterion in criteria.iterrows()])\n",
    "    sum_of_weights = sum([criterion[1][\"weight\"] for criterion in criteria.iterrows()])\n",
    "    return numerator_sum/sum_of_weights"
   ]
  },
  {
   "cell_type": "code",
   "execution_count": 34,
   "metadata": {},
   "outputs": [
    {
     "name": "stdout",
     "output_type": "stream",
     "text": [
      "ITA BEL 1.0\n",
      "ITA GER 1.0\n",
      "ITA SWE 0.75\n",
      "ITA AUT 0.4\n",
      "ITA FRA 0.55\n",
      "BEL ITA 0.0\n",
      "BEL GER 0.25\n",
      "BEL SWE 0.0\n",
      "BEL AUT 0.0\n",
      "BEL FRA 0.0\n",
      "GER ITA 0.0\n",
      "GER BEL 0.5\n",
      "GER SWE 0.2\n",
      "GER AUT 0.0\n",
      "GER FRA 0.0\n",
      "SWE ITA 0.0\n",
      "SWE BEL 0.75\n",
      "SWE GER 0.8\n",
      "SWE AUT 0.0\n",
      "SWE FRA 0.0\n",
      "AUT ITA 0.25\n",
      "AUT BEL 1.0\n",
      "AUT GER 1.0\n",
      "AUT SWE 1.0\n",
      "AUT FRA 0.5\n",
      "FRA ITA 0.2\n",
      "FRA BEL 0.75\n",
      "FRA GER 1.0\n",
      "FRA SWE 0.5\n",
      "FRA AUT 0.5\n"
     ]
    }
   ],
   "source": [
    "# different results for FRA-AUT and AUT-FRA than in the presentation\n",
    "# manual verification suggests that Milosz made an oopsie\n",
    "for alternative in alternatives.iterrows():\n",
    "    for b_alternative in alternatives.iterrows():\n",
    "        if alternative[0] == b_alternative[0]:\n",
    "            continue\n",
    "        \n",
    "        print(alternative[1][0], b_alternative[1][0], comprehensive_preference_index(alternative[1], b_alternative[1], criteria))"
   ]
  },
  {
   "cell_type": "code",
   "execution_count": null,
   "metadata": {},
   "outputs": [],
   "source": []
  }
 ],
 "metadata": {
  "kernelspec": {
   "display_name": "Python 3",
   "language": "python",
   "name": "python3"
  },
  "language_info": {
   "codemirror_mode": {
    "name": "ipython",
    "version": 3
   },
   "file_extension": ".py",
   "mimetype": "text/x-python",
   "name": "python",
   "nbconvert_exporter": "python",
   "pygments_lexer": "ipython3",
   "version": "3.10.6"
  },
  "orig_nbformat": 4
 },
 "nbformat": 4,
 "nbformat_minor": 2
}
