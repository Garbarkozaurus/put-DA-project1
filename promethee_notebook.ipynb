{
 "cells": [
  {
   "cell_type": "code",
   "execution_count": 1,
   "metadata": {},
   "outputs": [],
   "source": [
    "import pandas as pd\n",
    "import graphviz"
   ]
  },
  {
   "cell_type": "code",
   "execution_count": 2,
   "metadata": {},
   "outputs": [],
   "source": [
    "alternatives = pd.read_csv(\"./data/milosz_alternatives1.csv\")\n",
    "criteria = pd.read_csv(\"./data/milosz_criteria1.csv\")"
   ]
  },
  {
   "cell_type": "code",
   "execution_count": 3,
   "metadata": {},
   "outputs": [
    {
     "data": {
      "text/html": [
       "<div>\n",
       "<style scoped>\n",
       "    .dataframe tbody tr th:only-of-type {\n",
       "        vertical-align: middle;\n",
       "    }\n",
       "\n",
       "    .dataframe tbody tr th {\n",
       "        vertical-align: top;\n",
       "    }\n",
       "\n",
       "    .dataframe thead th {\n",
       "        text-align: right;\n",
       "    }\n",
       "</style>\n",
       "<table border=\"1\" class=\"dataframe\">\n",
       "  <thead>\n",
       "    <tr style=\"text-align: right;\">\n",
       "      <th></th>\n",
       "      <th>country</th>\n",
       "      <th>power</th>\n",
       "      <th>safety</th>\n",
       "      <th>construction_cost</th>\n",
       "    </tr>\n",
       "  </thead>\n",
       "  <tbody>\n",
       "    <tr>\n",
       "      <th>0</th>\n",
       "      <td>ITA</td>\n",
       "      <td>98</td>\n",
       "      <td>8</td>\n",
       "      <td>400</td>\n",
       "    </tr>\n",
       "    <tr>\n",
       "      <th>1</th>\n",
       "      <td>BEL</td>\n",
       "      <td>58</td>\n",
       "      <td>0</td>\n",
       "      <td>800</td>\n",
       "    </tr>\n",
       "    <tr>\n",
       "      <th>2</th>\n",
       "      <td>GER</td>\n",
       "      <td>66</td>\n",
       "      <td>5</td>\n",
       "      <td>1000</td>\n",
       "    </tr>\n",
       "    <tr>\n",
       "      <th>3</th>\n",
       "      <td>SWE</td>\n",
       "      <td>74</td>\n",
       "      <td>3</td>\n",
       "      <td>600</td>\n",
       "    </tr>\n",
       "    <tr>\n",
       "      <th>4</th>\n",
       "      <td>AUT</td>\n",
       "      <td>80</td>\n",
       "      <td>7</td>\n",
       "      <td>200</td>\n",
       "    </tr>\n",
       "    <tr>\n",
       "      <th>5</th>\n",
       "      <td>FRA</td>\n",
       "      <td>82</td>\n",
       "      <td>10</td>\n",
       "      <td>600</td>\n",
       "    </tr>\n",
       "  </tbody>\n",
       "</table>\n",
       "</div>"
      ],
      "text/plain": [
       "  country  power  safety  construction_cost\n",
       "0     ITA     98       8                400\n",
       "1     BEL     58       0                800\n",
       "2     GER     66       5               1000\n",
       "3     SWE     74       3                600\n",
       "4     AUT     80       7                200\n",
       "5     FRA     82      10                600"
      ]
     },
     "execution_count": 3,
     "metadata": {},
     "output_type": "execute_result"
    }
   ],
   "source": [
    "alternatives"
   ]
  },
  {
   "cell_type": "code",
   "execution_count": 4,
   "metadata": {},
   "outputs": [
    {
     "data": {
      "text/html": [
       "<div>\n",
       "<style scoped>\n",
       "    .dataframe tbody tr th:only-of-type {\n",
       "        vertical-align: middle;\n",
       "    }\n",
       "\n",
       "    .dataframe tbody tr th {\n",
       "        vertical-align: top;\n",
       "    }\n",
       "\n",
       "    .dataframe thead th {\n",
       "        text-align: right;\n",
       "    }\n",
       "</style>\n",
       "<table border=\"1\" class=\"dataframe\">\n",
       "  <thead>\n",
       "    <tr style=\"text-align: right;\">\n",
       "      <th></th>\n",
       "      <th>criterion_name</th>\n",
       "      <th>criterion_type</th>\n",
       "      <th>indifference</th>\n",
       "      <th>preference</th>\n",
       "      <th>veto</th>\n",
       "      <th>weight</th>\n",
       "    </tr>\n",
       "  </thead>\n",
       "  <tbody>\n",
       "    <tr>\n",
       "      <th>0</th>\n",
       "      <td>power</td>\n",
       "      <td>gain</td>\n",
       "      <td>0</td>\n",
       "      <td>0.000001</td>\n",
       "      <td>NaN</td>\n",
       "      <td>3</td>\n",
       "    </tr>\n",
       "    <tr>\n",
       "      <th>1</th>\n",
       "      <td>safety</td>\n",
       "      <td>gain</td>\n",
       "      <td>0</td>\n",
       "      <td>2.000000</td>\n",
       "      <td>NaN</td>\n",
       "      <td>2</td>\n",
       "    </tr>\n",
       "    <tr>\n",
       "      <th>2</th>\n",
       "      <td>construction_cost</td>\n",
       "      <td>cost</td>\n",
       "      <td>100</td>\n",
       "      <td>300.000000</td>\n",
       "      <td>NaN</td>\n",
       "      <td>5</td>\n",
       "    </tr>\n",
       "  </tbody>\n",
       "</table>\n",
       "</div>"
      ],
      "text/plain": [
       "      criterion_name criterion_type  indifference  preference  veto  weight\n",
       "0              power           gain             0    0.000001   NaN       3\n",
       "1             safety           gain             0    2.000000   NaN       2\n",
       "2  construction_cost           cost           100  300.000000   NaN       5"
      ]
     },
     "execution_count": 4,
     "metadata": {},
     "output_type": "execute_result"
    }
   ],
   "source": [
    "criteria"
   ]
  },
  {
   "cell_type": "code",
   "execution_count": 5,
   "metadata": {},
   "outputs": [
    {
     "data": {
      "text/plain": [
       "True"
      ]
     },
     "execution_count": 5,
     "metadata": {},
     "output_type": "execute_result"
    }
   ],
   "source": [
    "from validate_input import validate_input\n",
    "validate_input(alternatives, criteria)"
   ]
  },
  {
   "cell_type": "code",
   "execution_count": 6,
   "metadata": {},
   "outputs": [
    {
     "name": "stdout",
     "output_type": "stream",
     "text": [
      "criterion_name       power\n",
      "criterion_type        gain\n",
      "indifference             0\n",
      "preference        0.000001\n",
      "veto                   NaN\n",
      "weight                   3\n",
      "Name: 0, dtype: object\n"
     ]
    }
   ],
   "source": [
    "print(criteria.iloc[0])"
   ]
  },
  {
   "cell_type": "code",
   "execution_count": 7,
   "metadata": {},
   "outputs": [],
   "source": [
    "# compute preference between alternatives a and b\n",
    "def marginal_preference_index(a: pd.Series, b: pd.Series, criterion: pd.Series) -> float:\n",
    "    p = criterion[\"preference\"]\n",
    "    q = criterion[\"indifference\"]\n",
    "    criterion_type = criterion[\"criterion_type\"]\n",
    "    criterion_name = criterion[\"criterion_name\"]\n",
    "    a_val = a[criterion_name]\n",
    "    b_val = b[criterion_name]\n",
    "    difference = a_val - b_val\n",
    "    if criterion_type == \"cost\":\n",
    "        difference *= -1\n",
    "\n",
    "    if difference > p:\n",
    "        return 1\n",
    "    if difference <= q:\n",
    "        return 0\n",
    "    return (difference - q) / (p-q)"
   ]
  },
  {
   "cell_type": "code",
   "execution_count": 8,
   "metadata": {},
   "outputs": [],
   "source": [
    "def comprehensive_preference_index(a: pd.Series, b: pd.Series, criteria: pd.DataFrame) -> float:\n",
    "    numerator_sum = sum([marginal_preference_index(a, b, criterion[1])*criterion[1][\"weight\"] for criterion in criteria.iterrows()])\n",
    "    sum_of_weights = sum([criterion[1][\"weight\"] for criterion in criteria.iterrows()])\n",
    "    return numerator_sum/sum_of_weights"
   ]
  },
  {
   "cell_type": "code",
   "execution_count": 9,
   "metadata": {},
   "outputs": [
    {
     "name": "stdout",
     "output_type": "stream",
     "text": [
      "ITA BEL 1.0\n",
      "ITA GER 1.0\n",
      "ITA SWE 0.75\n",
      "ITA AUT 0.4\n",
      "ITA FRA 0.55\n",
      "BEL ITA 0.0\n",
      "BEL GER 0.25\n",
      "BEL SWE 0.0\n",
      "BEL AUT 0.0\n",
      "BEL FRA 0.0\n",
      "GER ITA 0.0\n",
      "GER BEL 0.5\n",
      "GER SWE 0.2\n",
      "GER AUT 0.0\n",
      "GER FRA 0.0\n",
      "SWE ITA 0.0\n",
      "SWE BEL 0.75\n",
      "SWE GER 0.8\n",
      "SWE AUT 0.0\n",
      "SWE FRA 0.0\n",
      "AUT ITA 0.25\n",
      "AUT BEL 1.0\n",
      "AUT GER 1.0\n",
      "AUT SWE 1.0\n",
      "AUT FRA 0.5\n",
      "FRA ITA 0.2\n",
      "FRA BEL 0.75\n",
      "FRA GER 1.0\n",
      "FRA SWE 0.5\n",
      "FRA AUT 0.5\n"
     ]
    }
   ],
   "source": [
    "# TODO delete this cell after its outputs are discussed by the developers\n",
    "# different results for FRA-AUT and AUT-FRA than in the presentation\n",
    "# manual verification suggests that Milosz made an oopsie\n",
    "for alternative in alternatives.iterrows():\n",
    "    for b_alternative in alternatives.iterrows():\n",
    "        if alternative[0] == b_alternative[0]:\n",
    "            continue\n",
    "\n",
    "        print(alternative[1][0], b_alternative[1][0], comprehensive_preference_index(alternative[1], b_alternative[1], criteria))"
   ]
  },
  {
   "cell_type": "code",
   "execution_count": 10,
   "metadata": {},
   "outputs": [],
   "source": [
    "def positive_flow(alternative: pd.Series, alternatives: pd.DataFrame, criteria: pd.DataFrame) -> float:\n",
    "    flow = 0\n",
    "    for b_alternative in alternatives.iterrows():\n",
    "        if alternative[0] == b_alternative[0]:\n",
    "            continue\n",
    "        flow += comprehensive_preference_index(alternative[1], b_alternative[1], criteria)\n",
    "    return flow\n",
    "\n",
    "def negative_flow(alternative, alternatives, criteria):\n",
    "    flow = 0\n",
    "    for b_alternative in alternatives.iterrows():\n",
    "        if alternative[0] == b_alternative[0]:\n",
    "            continue\n",
    "        flow += comprehensive_preference_index(b_alternative[1], alternative[1], criteria)\n",
    "    return flow"
   ]
  },
  {
   "cell_type": "code",
   "execution_count": 11,
   "metadata": {},
   "outputs": [
    {
     "name": "stdout",
     "output_type": "stream",
     "text": [
      "ITA 3.7 0.45\n",
      "BEL 0.25 4.0\n",
      "GER 0.7 4.05\n",
      "SWE 1.55 2.45\n",
      "AUT 3.75 0.9\n",
      "FRA 2.95 1.05\n"
     ]
    }
   ],
   "source": [
    "# again, the results for AUT and FRA are different than in the lecture\n",
    "# they are however consistent with the results obtained earlier on in the notebook\n",
    "for alternative in alternatives.iterrows():\n",
    "    print(alternative[1][0],\n",
    "          positive_flow(alternative, alternatives, criteria),\n",
    "          negative_flow(alternative, alternatives, criteria))"
   ]
  },
  {
   "cell_type": "code",
   "execution_count": 138,
   "metadata": {},
   "outputs": [],
   "source": [
    "def incomplete_ranking_to_graph(ranking: list, relations_dict: dict) -> graphviz.Digraph:\n",
    "    # to differentiate between incomparability and indifference\n",
    "    def group_alternatives_in_ranking(ranking: list, relations_dict: dict) -> list:\n",
    "        grouped_ranking = []\n",
    "        for level in ranking:\n",
    "            # all alternatives on the same level are either PAIRWISE indifferent or incomparable\n",
    "            # alternatives within a level are divided into groups of indifferent alternatives\n",
    "            # the alternatives in different groups are incomparable to each other\n",
    "            if len(level) == 1:\n",
    "                grouped_ranking.append([level])\n",
    "                continue\n",
    "            ungrouped_alternatives = level[1:]\n",
    "            current_group = [level[0]]\n",
    "            grouped_alternatives = []\n",
    "            while ungrouped_alternatives:\n",
    "                alternatives_to_group = []\n",
    "                for alternative in ungrouped_alternatives:\n",
    "                    if current_group[0] == alternative:\n",
    "                        continue\n",
    "                    if relations_dict[(current_group[0], alternative)] == \"I\":\n",
    "                        current_group.append(alternative)\n",
    "                        alternatives_to_group.append(alternative)\n",
    "                grouped_alternatives.append(current_group)\n",
    "                for alternative in alternatives_to_group:\n",
    "                    ungrouped_alternatives.remove(alternative)\n",
    "                current_group = []\n",
    "                if ungrouped_alternatives:\n",
    "                    current_group = [ungrouped_alternatives[0]]\n",
    "                    ungrouped_alternatives.remove(ungrouped_alternatives[0])\n",
    "            if current_group:\n",
    "                grouped_alternatives.append(current_group)\n",
    "            grouped_ranking.append(grouped_alternatives)\n",
    "        return grouped_ranking\n",
    "\n",
    "\n",
    "    # to make main loop more readable\n",
    "    def model_group_outranking(parent_group: list, group: list, graphed_winners_dict: dict, graphed_losers_dict: dict, ranking_graph: graphviz.Digraph) -> None:\n",
    "        if relations_dict[(parent_group[0], group[0])] == \"P\":\n",
    "                    ranking_graph.edge(', '.join(parent_group), ', '.join(group))\n",
    "                    for parent_a in parent_group:\n",
    "                        for child_a in group:\n",
    "                            graphed_winners_dict[parent_a].add(child_a)\n",
    "                            graphed_losers_dict[child_a].add(parent_a)\n",
    "                            # add child to all that outrank it - modeling \"transitive outranking\" \n",
    "                            for ancestor in graphed_losers_dict[parent_a]:\n",
    "                                graphed_winners_dict[ancestor].add(child_a)\n",
    "                                graphed_losers_dict[child_a].add(ancestor)\n",
    "\n",
    "\n",
    "    def create_group_dict(grouped_ranking: list) -> dict:\n",
    "        group_dict = dict()\n",
    "        for level in grouped_ranking:\n",
    "            for group in level:\n",
    "                for alternative in group:\n",
    "                    group_dict[alternative] = group\n",
    "        return group_dict\n",
    "\n",
    "\n",
    "    grouped_ranking = group_alternatives_in_ranking(ranking, relations_dict)\n",
    "    group_dict = create_group_dict(grouped_ranking)\n",
    "    ranking_graph = graphviz.Digraph(comment=\"PROMETHEE I ranking\")\n",
    "    # add the top level to the graph\n",
    "    for group in grouped_ranking[0]:\n",
    "        node_label = ', '.join(group)\n",
    "        ranking_graph.node(node_label, node_label)\n",
    "    previous_level = grouped_ranking[0]\n",
    "    graphed_winners_dict = dict([(a, set()) for level in ranking for a in level])\n",
    "    graphed_losers_dict = dict([(a, set()) for level in ranking for a in level])\n",
    "\n",
    "    # for lower levels, add connection from appropriate groups in levels directly above\n",
    "    for level in grouped_ranking[1:]:\n",
    "        for group in level:\n",
    "            for parent_group in previous_level:\n",
    "                model_group_outranking(parent_group, group, graphed_winners_dict, graphed_losers_dict, ranking_graph)\n",
    "        previous_level = level\n",
    "\n",
    "    # check that all preferences have been included in the graph\n",
    "    # if not - draw necessary arcs\n",
    "    # must start at the lowest level\n",
    "    preference_losers_dict = dict([(a, []) for level in ranking for a in level])\n",
    "    for pair, relation in relations_dict.items():\n",
    "        if relation != \"P\":\n",
    "            continue\n",
    "        preference_losers_dict[pair[1]].append(pair[0])\n",
    "    for level in grouped_ranking[::-1]:\n",
    "        for group in level:\n",
    "            for alternative in group:\n",
    "                for outranker in preference_losers_dict[alternative]:\n",
    "                    if outranker not in graphed_losers_dict[alternative]:\n",
    "                        outranker_group = group_dict[outranker]\n",
    "                        ranking_graph.edge(', '.join(outranker_group), ', '.join(group))\n",
    "                        for a in outranker_group:\n",
    "                            graphed_losers_dict[alternative].add(a)\n",
    "                            graphed_winners_dict[a].add(alternative)\n",
    "                \n",
    "\n",
    "    return ranking_graph"
   ]
  },
  {
   "cell_type": "code",
   "execution_count": 139,
   "metadata": {},
   "outputs": [
    {
     "name": "stdout",
     "output_type": "stream",
     "text": [
      "{'a1': set(), 'a6': {'a1'}, 'a8': {'a1'}, 'a5': {'a8', 'a1', 'a6'}, 'a7': {'a8', 'a1', 'a6'}, 'a2': {'a1', 'a8', 'a5', 'a6'}, 'a4': {'a1', 'a5', 'a2', 'a6', 'a8'}, 'a3': {'a4', 'a1', 'a5', 'a2', 'a7', 'a6', 'a8'}}\n"
     ]
    },
    {
     "data": {
      "image/svg+xml": "<?xml version=\"1.0\" encoding=\"UTF-8\" standalone=\"no\"?>\n<!DOCTYPE svg PUBLIC \"-//W3C//DTD SVG 1.1//EN\"\n \"http://www.w3.org/Graphics/SVG/1.1/DTD/svg11.dtd\">\n<!-- Generated by graphviz version 2.43.0 (0)\n -->\n<!-- Title: %3 Pages: 1 -->\n<svg width=\"134pt\" height=\"404pt\"\n viewBox=\"0.00 0.00 134.00 404.00\" xmlns=\"http://www.w3.org/2000/svg\" xmlns:xlink=\"http://www.w3.org/1999/xlink\">\n<g id=\"graph0\" class=\"graph\" transform=\"scale(1 1) rotate(0) translate(4 400)\">\n<title>%3</title>\n<polygon fill=\"white\" stroke=\"transparent\" points=\"-4,4 -4,-400 130,-400 130,4 -4,4\"/>\n<!-- a1 -->\n<g id=\"node1\" class=\"node\">\n<title>a1</title>\n<ellipse fill=\"none\" stroke=\"black\" cx=\"63\" cy=\"-378\" rx=\"27\" ry=\"18\"/>\n<text text-anchor=\"middle\" x=\"63\" y=\"-374.3\" font-family=\"Times,serif\" font-size=\"14.00\">a1</text>\n</g>\n<!-- a6 -->\n<g id=\"node2\" class=\"node\">\n<title>a6</title>\n<ellipse fill=\"none\" stroke=\"black\" cx=\"27\" cy=\"-306\" rx=\"27\" ry=\"18\"/>\n<text text-anchor=\"middle\" x=\"27\" y=\"-302.3\" font-family=\"Times,serif\" font-size=\"14.00\">a6</text>\n</g>\n<!-- a1&#45;&gt;a6 -->\n<g id=\"edge1\" class=\"edge\">\n<title>a1&#45;&gt;a6</title>\n<path fill=\"none\" stroke=\"black\" d=\"M54.65,-360.76C50.29,-352.28 44.85,-341.71 39.96,-332.2\"/>\n<polygon fill=\"black\" stroke=\"black\" points=\"42.99,-330.44 35.3,-323.15 36.77,-333.64 42.99,-330.44\"/>\n</g>\n<!-- a8 -->\n<g id=\"node3\" class=\"node\">\n<title>a8</title>\n<ellipse fill=\"none\" stroke=\"black\" cx=\"99\" cy=\"-306\" rx=\"27\" ry=\"18\"/>\n<text text-anchor=\"middle\" x=\"99\" y=\"-302.3\" font-family=\"Times,serif\" font-size=\"14.00\">a8</text>\n</g>\n<!-- a1&#45;&gt;a8 -->\n<g id=\"edge2\" class=\"edge\">\n<title>a1&#45;&gt;a8</title>\n<path fill=\"none\" stroke=\"black\" d=\"M71.35,-360.76C75.71,-352.28 81.15,-341.71 86.04,-332.2\"/>\n<polygon fill=\"black\" stroke=\"black\" points=\"89.23,-333.64 90.7,-323.15 83.01,-330.44 89.23,-333.64\"/>\n</g>\n<!-- a5 -->\n<g id=\"node4\" class=\"node\">\n<title>a5</title>\n<ellipse fill=\"none\" stroke=\"black\" cx=\"99\" cy=\"-234\" rx=\"27\" ry=\"18\"/>\n<text text-anchor=\"middle\" x=\"99\" y=\"-230.3\" font-family=\"Times,serif\" font-size=\"14.00\">a5</text>\n</g>\n<!-- a6&#45;&gt;a5 -->\n<g id=\"edge3\" class=\"edge\">\n<title>a6&#45;&gt;a5</title>\n<path fill=\"none\" stroke=\"black\" d=\"M41.57,-290.83C51.75,-280.94 65.52,-267.55 77.03,-256.36\"/>\n<polygon fill=\"black\" stroke=\"black\" points=\"79.47,-258.87 84.2,-249.38 74.59,-253.85 79.47,-258.87\"/>\n</g>\n<!-- a7 -->\n<g id=\"node5\" class=\"node\">\n<title>a7</title>\n<ellipse fill=\"none\" stroke=\"black\" cx=\"27\" cy=\"-234\" rx=\"27\" ry=\"18\"/>\n<text text-anchor=\"middle\" x=\"27\" y=\"-230.3\" font-family=\"Times,serif\" font-size=\"14.00\">a7</text>\n</g>\n<!-- a6&#45;&gt;a7 -->\n<g id=\"edge5\" class=\"edge\">\n<title>a6&#45;&gt;a7</title>\n<path fill=\"none\" stroke=\"black\" d=\"M27,-287.7C27,-279.98 27,-270.71 27,-262.11\"/>\n<polygon fill=\"black\" stroke=\"black\" points=\"30.5,-262.1 27,-252.1 23.5,-262.1 30.5,-262.1\"/>\n</g>\n<!-- a8&#45;&gt;a5 -->\n<g id=\"edge4\" class=\"edge\">\n<title>a8&#45;&gt;a5</title>\n<path fill=\"none\" stroke=\"black\" d=\"M99,-287.7C99,-279.98 99,-270.71 99,-262.11\"/>\n<polygon fill=\"black\" stroke=\"black\" points=\"102.5,-262.1 99,-252.1 95.5,-262.1 102.5,-262.1\"/>\n</g>\n<!-- a8&#45;&gt;a7 -->\n<g id=\"edge6\" class=\"edge\">\n<title>a8&#45;&gt;a7</title>\n<path fill=\"none\" stroke=\"black\" d=\"M84.43,-290.83C74.25,-280.94 60.48,-267.55 48.97,-256.36\"/>\n<polygon fill=\"black\" stroke=\"black\" points=\"51.41,-253.85 41.8,-249.38 46.53,-258.87 51.41,-253.85\"/>\n</g>\n<!-- a2 -->\n<g id=\"node6\" class=\"node\">\n<title>a2</title>\n<ellipse fill=\"none\" stroke=\"black\" cx=\"96\" cy=\"-162\" rx=\"27\" ry=\"18\"/>\n<text text-anchor=\"middle\" x=\"96\" y=\"-158.3\" font-family=\"Times,serif\" font-size=\"14.00\">a2</text>\n</g>\n<!-- a5&#45;&gt;a2 -->\n<g id=\"edge7\" class=\"edge\">\n<title>a5&#45;&gt;a2</title>\n<path fill=\"none\" stroke=\"black\" d=\"M98.26,-215.7C97.93,-207.98 97.53,-198.71 97.16,-190.11\"/>\n<polygon fill=\"black\" stroke=\"black\" points=\"100.66,-189.95 96.73,-180.1 93.66,-190.25 100.66,-189.95\"/>\n</g>\n<!-- a3 -->\n<g id=\"node8\" class=\"node\">\n<title>a3</title>\n<ellipse fill=\"none\" stroke=\"black\" cx=\"62\" cy=\"-18\" rx=\"27\" ry=\"18\"/>\n<text text-anchor=\"middle\" x=\"62\" y=\"-14.3\" font-family=\"Times,serif\" font-size=\"14.00\">a3</text>\n</g>\n<!-- a7&#45;&gt;a3 -->\n<g id=\"edge10\" class=\"edge\">\n<title>a7&#45;&gt;a3</title>\n<path fill=\"none\" stroke=\"black\" d=\"M29.81,-215.85C35.87,-178.74 50.27,-90.75 57.58,-46.05\"/>\n<polygon fill=\"black\" stroke=\"black\" points=\"61.07,-46.37 59.23,-35.94 54.16,-45.24 61.07,-46.37\"/>\n</g>\n<!-- a4 -->\n<g id=\"node7\" class=\"node\">\n<title>a4</title>\n<ellipse fill=\"none\" stroke=\"black\" cx=\"94\" cy=\"-90\" rx=\"27\" ry=\"18\"/>\n<text text-anchor=\"middle\" x=\"94\" y=\"-86.3\" font-family=\"Times,serif\" font-size=\"14.00\">a4</text>\n</g>\n<!-- a2&#45;&gt;a4 -->\n<g id=\"edge8\" class=\"edge\">\n<title>a2&#45;&gt;a4</title>\n<path fill=\"none\" stroke=\"black\" d=\"M95.51,-143.7C95.29,-135.98 95.02,-126.71 94.77,-118.11\"/>\n<polygon fill=\"black\" stroke=\"black\" points=\"98.27,-118 94.49,-108.1 91.28,-118.2 98.27,-118\"/>\n</g>\n<!-- a4&#45;&gt;a3 -->\n<g id=\"edge9\" class=\"edge\">\n<title>a4&#45;&gt;a3</title>\n<path fill=\"none\" stroke=\"black\" d=\"M86.42,-72.41C82.63,-64.13 77.97,-53.92 73.73,-44.66\"/>\n<polygon fill=\"black\" stroke=\"black\" points=\"76.87,-43.11 69.53,-35.47 70.5,-46.02 76.87,-43.11\"/>\n</g>\n</g>\n</svg>\n",
      "text/plain": [
       "<graphviz.graphs.Digraph at 0x7f75136e9450>"
      ]
     },
     "execution_count": 139,
     "metadata": {},
     "output_type": "execute_result"
    }
   ],
   "source": [
    "test_ranking = [[\"a1\"], [\"a6\", \"a8\"], [\"a5\", \"a7\"], [\"a2\"], [\"a4\"], [\"a3\"]]\n",
    "test_dict = dict([\n",
    "    ((\"a1\", \"a2\"), \"P\"), ((\"a1\", \"a3\"), \"P\"), ((\"a1\", \"a4\"), \"P\"), ((\"a1\", \"a5\"), \"P\"), ((\"a1\", \"a6\"), \"P\"), ((\"a1\", \"a7\"), \"P\"), ((\"a1\", \"a8\"), \"P\"), \n",
    "    ((\"a2\", \"a3\"), \"P\"), ((\"a2\", \"a4\"), \"P\"), ((\"a2\", \"a7\"), \"?\"),\n",
    "    # every alternative is preferred to a3\n",
    "    ((\"a4\", \"a3\"), \"P\"), ((\"a4\", \"a7\"), \"?\"),\n",
    "    ((\"a5\", \"a2\"), \"P\"), ((\"a5\", \"a3\"), \"P\"), ((\"a5\", \"a4\"), \"P\"), ((\"a5\", \"a7\"), \"?\"),\n",
    "    ((\"a6\", \"a2\"), \"P\"), ((\"a6\", \"a3\"), \"P\"), ((\"a6\", \"a4\"), \"P\"), ((\"a6\", \"a5\"), \"P\"), ((\"a6\", \"a7\"), \"P\"), ((\"a6\", \"a8\"), \"?\"),\n",
    "    ((\"a7\", \"a2\"), \"?\"), ((\"a7\", \"a3\"), \"P\"), ((\"a7\", \"a4\"), \"?\"), ((\"a7\", \"a4\"), \"?\"),\n",
    "    ((\"a8\", \"a2\"), \"P\"), ((\"a8\", \"a3\"), \"P\"), ((\"a8\", \"a4\"), \"P\"), ((\"a8\", \"a5\"), \"P\"), ((\"a8\", \"a6\"), \"?\"), ((\"a8\", \"a7\"), \"P\"),\n",
    "    ])\n",
    "\n",
    "incomplete_ranking_to_graph(test_ranking, test_dict)"
   ]
  },
  {
   "cell_type": "code",
   "execution_count": 130,
   "metadata": {},
   "outputs": [],
   "source": [
    "# TODO: implement\n",
    "# still work in progress\n",
    "def PROMETHEE1_ranking(alternatives: pd.DataFrame, criteria: pd.DataFrame):\n",
    "    # determining relations between all pairs of alternatives based on positive and negative flows\n",
    "    positive_flow_dict = dict((a[1][0], positive_flow(a, alternatives, criteria))\n",
    "                               for a in alternatives.iterrows())\n",
    "    negative_flow_dict = dict((a[1][0], negative_flow(a, alternatives, criteria))\n",
    "                               for a in alternatives.iterrows())\n",
    "    alternative_names = alternatives.iloc[:, 0].tolist()\n",
    "    relations_dict = dict()\n",
    "    for name in alternative_names:\n",
    "        for different_name in alternative_names:\n",
    "            if name == different_name:\n",
    "                continue\n",
    "            if ((positive_flow_dict[name] >= positive_flow_dict[different_name] and\n",
    "                negative_flow_dict[name] < negative_flow_dict[different_name]) or\n",
    "               (positive_flow_dict[name] > positive_flow_dict[different_name] and\n",
    "                negative_flow_dict[name] <= negative_flow_dict[different_name])):\n",
    "                relations_dict[(name, different_name)] = 'P'\n",
    "            elif (positive_flow_dict[name] == positive_flow_dict[different_name] and\n",
    "                  negative_flow_dict[name] == negative_flow_dict[different_name]):\n",
    "                relations_dict[((name, different_name))] = 'I'\n",
    "            elif ((positive_flow_dict[name] > positive_flow_dict[different_name] and\n",
    "                negative_flow_dict[name] > negative_flow_dict[different_name]) or\n",
    "               (positive_flow_dict[name] < positive_flow_dict[different_name] and\n",
    "                negative_flow_dict[name] < negative_flow_dict[different_name])):\n",
    "                relations_dict[(name, different_name)] = '?'\n",
    "\n",
    "    # key: alternative; value: list of all alternatives preferred to it\n",
    "    # the outranking alternatives are removed step-by-step as the ranking is built from top to bottom\n",
    "    # e. g. a dictionary: {a: [], b: [a], c: [a, b]} represents the ranking: a>b>c\n",
    "    # after the first iteration of the while loop it is updated to {a: [], b: [], c: [b]}\n",
    "    # and after the second (final): {a: [], b: [], c: []}\n",
    "    preference_losers_dict = dict((alternative_name, []) for alternative_name in alternative_names)\n",
    "    unranked_alternatives = alternative_names\n",
    "    for pair, relation in relations_dict.items():\n",
    "        if relation != \"P\":\n",
    "            continue\n",
    "        preference_losers_dict[pair[1]].append(pair[0])\n",
    "    ranking = []\n",
    "    while unranked_alternatives:\n",
    "        alternatives_to_add_to_ranking = []\n",
    "        # find alternatives that have no direct \"outrankers\" left in the dictionary\n",
    "        for alternative_name in unranked_alternatives:\n",
    "            if preference_losers_dict[alternative_name]:\n",
    "                continue\n",
    "            alternatives_to_add_to_ranking.append(alternative_name)\n",
    "\n",
    "        # adding the found alternatives to the ranking as a block of not-preferred to each other alternatives\n",
    "        ranking.append(alternatives_to_add_to_ranking)\n",
    "\n",
    "        # remove the alternatives that are going to be added to the ranking\n",
    "        # from serving as \"outrankers\" in the preference_losers_dict\n",
    "        for alternative in unranked_alternatives:\n",
    "            for alternative_to_add_to_ranking in alternatives_to_add_to_ranking:\n",
    "                if alternative_to_add_to_ranking in preference_losers_dict[alternative]:\n",
    "                    preference_losers_dict[alternative].remove(alternative_to_add_to_ranking)\n",
    "        # remove the found alternatives from unranked\n",
    "        for alternative in alternatives_to_add_to_ranking:\n",
    "            unranked_alternatives.remove(alternative)\n",
    "\n",
    "\n",
    "    return incomplete_ranking_to_graph(ranking, relations_dict)"
   ]
  },
  {
   "cell_type": "code",
   "execution_count": 131,
   "metadata": {},
   "outputs": [
    {
     "data": {
      "image/svg+xml": "<?xml version=\"1.0\" encoding=\"UTF-8\" standalone=\"no\"?>\n<!DOCTYPE svg PUBLIC \"-//W3C//DTD SVG 1.1//EN\"\n \"http://www.w3.org/Graphics/SVG/1.1/DTD/svg11.dtd\">\n<!-- Generated by graphviz version 2.43.0 (0)\n -->\n<!-- Title: %3 Pages: 1 -->\n<svg width=\"150pt\" height=\"260pt\"\n viewBox=\"0.00 0.00 150.39 260.00\" xmlns=\"http://www.w3.org/2000/svg\" xmlns:xlink=\"http://www.w3.org/1999/xlink\">\n<g id=\"graph0\" class=\"graph\" transform=\"scale(1 1) rotate(0) translate(4 256)\">\n<title>%3</title>\n<polygon fill=\"white\" stroke=\"transparent\" points=\"-4,4 -4,-256 146.39,-256 146.39,4 -4,4\"/>\n<!-- ITA -->\n<g id=\"node1\" class=\"node\">\n<title>ITA</title>\n<ellipse fill=\"none\" stroke=\"black\" cx=\"32.55\" cy=\"-234\" rx=\"27\" ry=\"18\"/>\n<text text-anchor=\"middle\" x=\"32.55\" y=\"-230.3\" font-family=\"Times,serif\" font-size=\"14.00\">ITA</text>\n</g>\n<!-- FRA -->\n<g id=\"node3\" class=\"node\">\n<title>FRA</title>\n<ellipse fill=\"none\" stroke=\"black\" cx=\"70.55\" cy=\"-162\" rx=\"30.59\" ry=\"18\"/>\n<text text-anchor=\"middle\" x=\"70.55\" y=\"-158.3\" font-family=\"Times,serif\" font-size=\"14.00\">FRA</text>\n</g>\n<!-- ITA&#45;&gt;FRA -->\n<g id=\"edge1\" class=\"edge\">\n<title>ITA&#45;&gt;FRA</title>\n<path fill=\"none\" stroke=\"black\" d=\"M41.36,-216.76C45.9,-208.4 51.54,-198.02 56.65,-188.61\"/>\n<polygon fill=\"black\" stroke=\"black\" points=\"59.82,-190.09 61.52,-179.63 53.67,-186.75 59.82,-190.09\"/>\n</g>\n<!-- AUT -->\n<g id=\"node2\" class=\"node\">\n<title>AUT</title>\n<ellipse fill=\"none\" stroke=\"black\" cx=\"108.55\" cy=\"-234\" rx=\"30.59\" ry=\"18\"/>\n<text text-anchor=\"middle\" x=\"108.55\" y=\"-230.3\" font-family=\"Times,serif\" font-size=\"14.00\">AUT</text>\n</g>\n<!-- AUT&#45;&gt;FRA -->\n<g id=\"edge2\" class=\"edge\">\n<title>AUT&#45;&gt;FRA</title>\n<path fill=\"none\" stroke=\"black\" d=\"M99.73,-216.76C95.2,-208.4 89.56,-198.02 84.45,-188.61\"/>\n<polygon fill=\"black\" stroke=\"black\" points=\"87.42,-186.75 79.58,-179.63 81.27,-190.09 87.42,-186.75\"/>\n</g>\n<!-- SWE -->\n<g id=\"node4\" class=\"node\">\n<title>SWE</title>\n<ellipse fill=\"none\" stroke=\"black\" cx=\"70.55\" cy=\"-90\" rx=\"33.29\" ry=\"18\"/>\n<text text-anchor=\"middle\" x=\"70.55\" y=\"-86.3\" font-family=\"Times,serif\" font-size=\"14.00\">SWE</text>\n</g>\n<!-- FRA&#45;&gt;SWE -->\n<g id=\"edge3\" class=\"edge\">\n<title>FRA&#45;&gt;SWE</title>\n<path fill=\"none\" stroke=\"black\" d=\"M70.55,-143.7C70.55,-135.98 70.55,-126.71 70.55,-118.11\"/>\n<polygon fill=\"black\" stroke=\"black\" points=\"74.05,-118.1 70.55,-108.1 67.05,-118.1 74.05,-118.1\"/>\n</g>\n<!-- BEL -->\n<g id=\"node5\" class=\"node\">\n<title>BEL</title>\n<ellipse fill=\"none\" stroke=\"black\" cx=\"30.55\" cy=\"-18\" rx=\"30.59\" ry=\"18\"/>\n<text text-anchor=\"middle\" x=\"30.55\" y=\"-14.3\" font-family=\"Times,serif\" font-size=\"14.00\">BEL</text>\n</g>\n<!-- SWE&#45;&gt;BEL -->\n<g id=\"edge4\" class=\"edge\">\n<title>SWE&#45;&gt;BEL</title>\n<path fill=\"none\" stroke=\"black\" d=\"M61.07,-72.41C56.29,-64.04 50.38,-53.71 45.04,-44.37\"/>\n<polygon fill=\"black\" stroke=\"black\" points=\"47.96,-42.42 39.96,-35.47 41.88,-45.89 47.96,-42.42\"/>\n</g>\n<!-- GER -->\n<g id=\"node6\" class=\"node\">\n<title>GER</title>\n<ellipse fill=\"none\" stroke=\"black\" cx=\"110.55\" cy=\"-18\" rx=\"31.7\" ry=\"18\"/>\n<text text-anchor=\"middle\" x=\"110.55\" y=\"-14.3\" font-family=\"Times,serif\" font-size=\"14.00\">GER</text>\n</g>\n<!-- SWE&#45;&gt;GER -->\n<g id=\"edge5\" class=\"edge\">\n<title>SWE&#45;&gt;GER</title>\n<path fill=\"none\" stroke=\"black\" d=\"M80.03,-72.41C84.81,-64.04 90.71,-53.71 96.05,-44.37\"/>\n<polygon fill=\"black\" stroke=\"black\" points=\"99.21,-45.89 101.14,-35.47 93.14,-42.42 99.21,-45.89\"/>\n</g>\n</g>\n</svg>\n",
      "text/plain": [
       "<graphviz.graphs.Digraph at 0x7f754425e8f0>"
      ]
     },
     "execution_count": 131,
     "metadata": {},
     "output_type": "execute_result"
    }
   ],
   "source": [
    "PROMETHEE1_ranking(alternatives, criteria)"
   ]
  },
  {
   "cell_type": "code",
   "execution_count": 144,
   "metadata": {},
   "outputs": [],
   "source": [
    "def PROMETHEE2_ranking(alternatives: pd.DataFrame, criteria: pd.DataFrame) -> graphviz.Digraph:\n",
    "    ranking = sorted([(a[1][0], \n",
    "                       positive_flow(a, alternatives, criteria)-negative_flow(a, alternatives, criteria))\n",
    "                       for a in alternatives.iterrows()], \n",
    "                       key = lambda x: x[1], reverse=True)\n",
    "    ranking = [(name, round(score, 2)) for (name, score) in ranking]\n",
    "    ranking_graph = graphviz.Digraph(comment=\"PROMETHEE II ranking\")\n",
    "    ranking_graph.node(ranking[0][0], ranking[0][0])\n",
    "    previous_pair = ranking[0]\n",
    "    for pair in ranking[1:]:\n",
    "        ranking_graph.node(pair[0], pair[0])\n",
    "        ranking_graph.edge(previous_pair[0], pair[0])\n",
    "        previous_pair = pair\n",
    "    return ranking_graph"
   ]
  },
  {
   "cell_type": "code",
   "execution_count": 145,
   "metadata": {},
   "outputs": [
    {
     "data": {
      "image/svg+xml": "<?xml version=\"1.0\" encoding=\"UTF-8\" standalone=\"no\"?>\n<!DOCTYPE svg PUBLIC \"-//W3C//DTD SVG 1.1//EN\"\n \"http://www.w3.org/Graphics/SVG/1.1/DTD/svg11.dtd\">\n<!-- Generated by graphviz version 2.43.0 (0)\n -->\n<!-- Title: %3 Pages: 1 -->\n<svg width=\"74pt\" height=\"404pt\"\n viewBox=\"0.00 0.00 74.29 404.00\" xmlns=\"http://www.w3.org/2000/svg\" xmlns:xlink=\"http://www.w3.org/1999/xlink\">\n<g id=\"graph0\" class=\"graph\" transform=\"scale(1 1) rotate(0) translate(4 400)\">\n<title>%3</title>\n<polygon fill=\"white\" stroke=\"transparent\" points=\"-4,4 -4,-400 70.29,-400 70.29,4 -4,4\"/>\n<!-- ITA -->\n<g id=\"node1\" class=\"node\">\n<title>ITA</title>\n<ellipse fill=\"none\" stroke=\"black\" cx=\"33.15\" cy=\"-378\" rx=\"27\" ry=\"18\"/>\n<text text-anchor=\"middle\" x=\"33.15\" y=\"-374.3\" font-family=\"Times,serif\" font-size=\"14.00\">ITA</text>\n</g>\n<!-- AUT -->\n<g id=\"node2\" class=\"node\">\n<title>AUT</title>\n<ellipse fill=\"none\" stroke=\"black\" cx=\"33.15\" cy=\"-306\" rx=\"30.59\" ry=\"18\"/>\n<text text-anchor=\"middle\" x=\"33.15\" y=\"-302.3\" font-family=\"Times,serif\" font-size=\"14.00\">AUT</text>\n</g>\n<!-- ITA&#45;&gt;AUT -->\n<g id=\"edge1\" class=\"edge\">\n<title>ITA&#45;&gt;AUT</title>\n<path fill=\"none\" stroke=\"black\" d=\"M33.15,-359.7C33.15,-351.98 33.15,-342.71 33.15,-334.11\"/>\n<polygon fill=\"black\" stroke=\"black\" points=\"36.65,-334.1 33.15,-324.1 29.65,-334.1 36.65,-334.1\"/>\n</g>\n<!-- FRA -->\n<g id=\"node3\" class=\"node\">\n<title>FRA</title>\n<ellipse fill=\"none\" stroke=\"black\" cx=\"33.15\" cy=\"-234\" rx=\"30.59\" ry=\"18\"/>\n<text text-anchor=\"middle\" x=\"33.15\" y=\"-230.3\" font-family=\"Times,serif\" font-size=\"14.00\">FRA</text>\n</g>\n<!-- AUT&#45;&gt;FRA -->\n<g id=\"edge2\" class=\"edge\">\n<title>AUT&#45;&gt;FRA</title>\n<path fill=\"none\" stroke=\"black\" d=\"M33.15,-287.7C33.15,-279.98 33.15,-270.71 33.15,-262.11\"/>\n<polygon fill=\"black\" stroke=\"black\" points=\"36.65,-262.1 33.15,-252.1 29.65,-262.1 36.65,-262.1\"/>\n</g>\n<!-- SWE -->\n<g id=\"node4\" class=\"node\">\n<title>SWE</title>\n<ellipse fill=\"none\" stroke=\"black\" cx=\"33.15\" cy=\"-162\" rx=\"33.29\" ry=\"18\"/>\n<text text-anchor=\"middle\" x=\"33.15\" y=\"-158.3\" font-family=\"Times,serif\" font-size=\"14.00\">SWE</text>\n</g>\n<!-- FRA&#45;&gt;SWE -->\n<g id=\"edge3\" class=\"edge\">\n<title>FRA&#45;&gt;SWE</title>\n<path fill=\"none\" stroke=\"black\" d=\"M33.15,-215.7C33.15,-207.98 33.15,-198.71 33.15,-190.11\"/>\n<polygon fill=\"black\" stroke=\"black\" points=\"36.65,-190.1 33.15,-180.1 29.65,-190.1 36.65,-190.1\"/>\n</g>\n<!-- GER -->\n<g id=\"node5\" class=\"node\">\n<title>GER</title>\n<ellipse fill=\"none\" stroke=\"black\" cx=\"33.15\" cy=\"-90\" rx=\"31.7\" ry=\"18\"/>\n<text text-anchor=\"middle\" x=\"33.15\" y=\"-86.3\" font-family=\"Times,serif\" font-size=\"14.00\">GER</text>\n</g>\n<!-- SWE&#45;&gt;GER -->\n<g id=\"edge4\" class=\"edge\">\n<title>SWE&#45;&gt;GER</title>\n<path fill=\"none\" stroke=\"black\" d=\"M33.15,-143.7C33.15,-135.98 33.15,-126.71 33.15,-118.11\"/>\n<polygon fill=\"black\" stroke=\"black\" points=\"36.65,-118.1 33.15,-108.1 29.65,-118.1 36.65,-118.1\"/>\n</g>\n<!-- BEL -->\n<g id=\"node6\" class=\"node\">\n<title>BEL</title>\n<ellipse fill=\"none\" stroke=\"black\" cx=\"33.15\" cy=\"-18\" rx=\"30.59\" ry=\"18\"/>\n<text text-anchor=\"middle\" x=\"33.15\" y=\"-14.3\" font-family=\"Times,serif\" font-size=\"14.00\">BEL</text>\n</g>\n<!-- GER&#45;&gt;BEL -->\n<g id=\"edge5\" class=\"edge\">\n<title>GER&#45;&gt;BEL</title>\n<path fill=\"none\" stroke=\"black\" d=\"M33.15,-71.7C33.15,-63.98 33.15,-54.71 33.15,-46.11\"/>\n<polygon fill=\"black\" stroke=\"black\" points=\"36.65,-46.1 33.15,-36.1 29.65,-46.1 36.65,-46.1\"/>\n</g>\n</g>\n</svg>\n",
      "text/plain": [
       "<graphviz.graphs.Digraph at 0x7f75136462c0>"
      ]
     },
     "execution_count": 145,
     "metadata": {},
     "output_type": "execute_result"
    }
   ],
   "source": [
    "PROMETHEE2_ranking(alternatives, criteria)"
   ]
  },
  {
   "cell_type": "code",
   "execution_count": null,
   "metadata": {},
   "outputs": [],
   "source": []
  }
 ],
 "metadata": {
  "kernelspec": {
   "display_name": "Python 3",
   "language": "python",
   "name": "python3"
  },
  "language_info": {
   "codemirror_mode": {
    "name": "ipython",
    "version": 3
   },
   "file_extension": ".py",
   "mimetype": "text/x-python",
   "name": "python",
   "nbconvert_exporter": "python",
   "pygments_lexer": "ipython3",
   "version": "3.10.6"
  },
  "orig_nbformat": 4
 },
 "nbformat": 4,
 "nbformat_minor": 2
}
